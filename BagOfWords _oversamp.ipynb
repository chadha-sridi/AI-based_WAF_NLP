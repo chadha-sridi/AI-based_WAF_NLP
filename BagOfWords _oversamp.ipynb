{
 "cells": [
  {
   "cell_type": "code",
   "execution_count": 2,
   "id": "1596d0ba",
   "metadata": {},
   "outputs": [],
   "source": [
    "import pandas as pd\n",
    "import numpy as np"
   ]
  },
  {
   "cell_type": "code",
   "execution_count": 3,
   "id": "f71cf684",
   "metadata": {},
   "outputs": [
    {
     "data": {
      "text/plain": [
       "(43485, 4)"
      ]
     },
     "execution_count": 3,
     "metadata": {},
     "output_type": "execute_result"
    }
   ],
   "source": [
    "df = pd.read_csv(\"clean_data.csv\")\n",
    "df.shape"
   ]
  },
  {
   "cell_type": "code",
   "execution_count": 4,
   "id": "36a45704",
   "metadata": {},
   "outputs": [
    {
     "data": {
      "text/plain": [
       "0    28000\n",
       "1    15485\n",
       "Name: classification, dtype: int64"
      ]
     },
     "execution_count": 4,
     "metadata": {},
     "output_type": "execute_result"
    }
   ],
   "source": [
    "df.classification.value_counts() #our dataset is imbalanced"
   ]
  },
  {
   "cell_type": "markdown",
   "id": "01fca6c1",
   "metadata": {},
   "source": [
    "To account for the class imbalance we will later use oversampling"
   ]
  },
  {
   "cell_type": "code",
   "execution_count": 5,
   "id": "f1d82a3b",
   "metadata": {},
   "outputs": [
    {
     "data": {
      "text/plain": [
       "(43485, 4)"
      ]
     },
     "execution_count": 5,
     "metadata": {},
     "output_type": "execute_result"
    }
   ],
   "source": [
    "df.shape"
   ]
  },
  {
   "cell_type": "code",
   "execution_count": 6,
   "id": "d49a0303",
   "metadata": {},
   "outputs": [
    {
     "data": {
      "text/plain": [
       "Method             0\n",
       "payload_length     0\n",
       "classification     0\n",
       "URL               39\n",
       "dtype: int64"
      ]
     },
     "execution_count": 6,
     "metadata": {},
     "output_type": "execute_result"
    }
   ],
   "source": [
    "df.isnull().sum()"
   ]
  },
  {
   "cell_type": "code",
   "execution_count": 7,
   "id": "a5266ae9",
   "metadata": {},
   "outputs": [],
   "source": [
    "#indexes of rows with missing values in the 'url' column\n",
    "nan_indexes= df.loc[df['URL'].isna()].index\n",
    "# Replace the NaN values in the 'url' column with an empty string\n",
    "df.loc[nan_indexes, 'URL']=''"
   ]
  },
  {
   "cell_type": "code",
   "execution_count": 8,
   "id": "474ed187",
   "metadata": {},
   "outputs": [
    {
     "data": {
      "text/plain": [
       "Method            0\n",
       "payload_length    0\n",
       "classification    0\n",
       "URL               0\n",
       "dtype: int64"
      ]
     },
     "execution_count": 8,
     "metadata": {},
     "output_type": "execute_result"
    }
   ],
   "source": [
    "df.isnull().sum()"
   ]
  },
  {
   "cell_type": "code",
   "execution_count": 9,
   "id": "f839a871",
   "metadata": {},
   "outputs": [],
   "source": [
    "#one-hot-encoding of Method column \n",
    "one_hot_encoded = pd.get_dummies(df['Method'], drop_first=True)\n",
    "df = pd.concat([df, one_hot_encoded], axis=1)\n",
    "df.drop('Method', axis=1, inplace=True)"
   ]
  },
  {
   "cell_type": "code",
   "execution_count": 10,
   "id": "2b4e9b32",
   "metadata": {},
   "outputs": [
    {
     "data": {
      "text/html": [
       "<div>\n",
       "<style scoped>\n",
       "    .dataframe tbody tr th:only-of-type {\n",
       "        vertical-align: middle;\n",
       "    }\n",
       "\n",
       "    .dataframe tbody tr th {\n",
       "        vertical-align: top;\n",
       "    }\n",
       "\n",
       "    .dataframe thead th {\n",
       "        text-align: right;\n",
       "    }\n",
       "</style>\n",
       "<table border=\"1\" class=\"dataframe\">\n",
       "  <thead>\n",
       "    <tr style=\"text-align: right;\">\n",
       "      <th></th>\n",
       "      <th>payload_length</th>\n",
       "      <th>classification</th>\n",
       "      <th>URL</th>\n",
       "      <th>POST</th>\n",
       "      <th>PUT</th>\n",
       "    </tr>\n",
       "  </thead>\n",
       "  <tbody>\n",
       "    <tr>\n",
       "      <th>0</th>\n",
       "      <td>0</td>\n",
       "      <td>0</td>\n",
       "      <td>index.jsp</td>\n",
       "      <td>0</td>\n",
       "      <td>0</td>\n",
       "    </tr>\n",
       "    <tr>\n",
       "      <th>1</th>\n",
       "      <td>68</td>\n",
       "      <td>0</td>\n",
       "      <td>publico/anadir.jsp?id=3&amp;nombre=Vino+Rioja&amp;prec...</td>\n",
       "      <td>1</td>\n",
       "      <td>0</td>\n",
       "    </tr>\n",
       "    <tr>\n",
       "      <th>2</th>\n",
       "      <td>63</td>\n",
       "      <td>0</td>\n",
       "      <td>publico/autenticar.jsp?modo=entrar&amp;login=choon...</td>\n",
       "      <td>1</td>\n",
       "      <td>0</td>\n",
       "    </tr>\n",
       "    <tr>\n",
       "      <th>3</th>\n",
       "      <td>4</td>\n",
       "      <td>0</td>\n",
       "      <td>publico/caracteristicas.jsp?id=2</td>\n",
       "      <td>1</td>\n",
       "      <td>0</td>\n",
       "    </tr>\n",
       "    <tr>\n",
       "      <th>4</th>\n",
       "      <td>0</td>\n",
       "      <td>0</td>\n",
       "      <td>publico/carrito.jsp</td>\n",
       "      <td>0</td>\n",
       "      <td>0</td>\n",
       "    </tr>\n",
       "  </tbody>\n",
       "</table>\n",
       "</div>"
      ],
      "text/plain": [
       "   payload_length  classification  \\\n",
       "0               0               0   \n",
       "1              68               0   \n",
       "2              63               0   \n",
       "3               4               0   \n",
       "4               0               0   \n",
       "\n",
       "                                                 URL  POST  PUT  \n",
       "0                                          index.jsp     0    0  \n",
       "1  publico/anadir.jsp?id=3&nombre=Vino+Rioja&prec...     1    0  \n",
       "2  publico/autenticar.jsp?modo=entrar&login=choon...     1    0  \n",
       "3                   publico/caracteristicas.jsp?id=2     1    0  \n",
       "4                                publico/carrito.jsp     0    0  "
      ]
     },
     "execution_count": 10,
     "metadata": {},
     "output_type": "execute_result"
    }
   ],
   "source": [
    "df.head() "
   ]
  },
  {
   "cell_type": "code",
   "execution_count": 11,
   "id": "2747931f",
   "metadata": {},
   "outputs": [
    {
     "data": {
      "text/plain": [
       "payload_length    0\n",
       "classification    0\n",
       "URL               0\n",
       "POST              0\n",
       "PUT               0\n",
       "dtype: int64"
      ]
     },
     "execution_count": 11,
     "metadata": {},
     "output_type": "execute_result"
    }
   ],
   "source": [
    "df.isnull().sum()"
   ]
  },
  {
   "cell_type": "markdown",
   "id": "24bd2c2b",
   "metadata": {},
   "source": [
    "## Oversampling"
   ]
  },
  {
   "cell_type": "code",
   "execution_count": 12,
   "id": "c3aa22f2",
   "metadata": {},
   "outputs": [
    {
     "data": {
      "text/plain": [
       "0    28000\n",
       "1    28000\n",
       "Name: classification, dtype: int64"
      ]
     },
     "execution_count": 12,
     "metadata": {},
     "output_type": "execute_result"
    }
   ],
   "source": [
    "df_class_1 = df[df['classification'] == 1]\n",
    "df_class_0 = df[df['classification'] == 0]\n",
    "df_class_1_over = df_class_1.sample(df['classification'].value_counts()[0], replace=True)\n",
    "df1 = pd.concat([df_class_0, df_class_1_over], axis=0)\n",
    "\n",
    "df1.shape\n",
    "df1['classification'].value_counts()"
   ]
  },
  {
   "cell_type": "code",
   "execution_count": 13,
   "id": "922f6cab",
   "metadata": {},
   "outputs": [],
   "source": [
    "X=df1.drop('classification', axis=1)\n",
    "y=df1.classification"
   ]
  },
  {
   "cell_type": "code",
   "execution_count": 14,
   "id": "f36f0fba",
   "metadata": {},
   "outputs": [],
   "source": [
    "from sklearn.model_selection import train_test_split\n",
    "X_train, X_test,y_train, y_test= train_test_split(X,y,test_size=0.2,random_state=0)"
   ]
  },
  {
   "cell_type": "code",
   "execution_count": 15,
   "id": "f2c02260",
   "metadata": {},
   "outputs": [
    {
     "data": {
      "text/plain": [
       "(44800, 4)"
      ]
     },
     "execution_count": 15,
     "metadata": {},
     "output_type": "execute_result"
    }
   ],
   "source": [
    "X_train.shape"
   ]
  },
  {
   "cell_type": "code",
   "execution_count": 16,
   "id": "162a74cb",
   "metadata": {},
   "outputs": [
    {
     "data": {
      "text/plain": [
       "(11200, 4)"
      ]
     },
     "execution_count": 16,
     "metadata": {},
     "output_type": "execute_result"
    }
   ],
   "source": [
    "X_test.shape"
   ]
  },
  {
   "cell_type": "code",
   "execution_count": 17,
   "id": "21d5e9d2",
   "metadata": {},
   "outputs": [
    {
     "data": {
      "text/plain": [
       "pandas.core.frame.DataFrame"
      ]
     },
     "execution_count": 17,
     "metadata": {},
     "output_type": "execute_result"
    }
   ],
   "source": [
    "type(X_train)"
   ]
  },
  {
   "cell_type": "code",
   "execution_count": 18,
   "id": "7c80e339",
   "metadata": {},
   "outputs": [
    {
     "data": {
      "text/plain": [
       "numpy.ndarray"
      ]
     },
     "execution_count": 18,
     "metadata": {},
     "output_type": "execute_result"
    }
   ],
   "source": [
    "type(X_train.values)"
   ]
  },
  {
   "cell_type": "code",
   "execution_count": 19,
   "id": "017bf405",
   "metadata": {},
   "outputs": [
    {
     "data": {
      "text/plain": [
       "pandas.core.series.Series"
      ]
     },
     "execution_count": 19,
     "metadata": {},
     "output_type": "execute_result"
    }
   ],
   "source": [
    "type(y_train)"
   ]
  },
  {
   "cell_type": "code",
   "execution_count": 20,
   "id": "8348eab5",
   "metadata": {},
   "outputs": [],
   "source": [
    "URL_train=X_train.URL "
   ]
  },
  {
   "cell_type": "code",
   "execution_count": 21,
   "id": "a65f8885",
   "metadata": {},
   "outputs": [
    {
     "data": {
      "text/plain": [
       "(44800,)"
      ]
     },
     "execution_count": 21,
     "metadata": {},
     "output_type": "execute_result"
    }
   ],
   "source": [
    "URL_train.shape"
   ]
  },
  {
   "cell_type": "code",
   "execution_count": 22,
   "id": "ef62a41f",
   "metadata": {},
   "outputs": [
    {
     "data": {
      "text/plain": [
       "0"
      ]
     },
     "execution_count": 22,
     "metadata": {},
     "output_type": "execute_result"
    }
   ],
   "source": [
    "URL_train.isnull().sum()"
   ]
  },
  {
   "cell_type": "code",
   "execution_count": 97,
   "id": "ed8e70ed",
   "metadata": {},
   "outputs": [
    {
     "data": {
      "text/plain": [
       "numpy.ndarray"
      ]
     },
     "execution_count": 97,
     "metadata": {},
     "output_type": "execute_result"
    }
   ],
   "source": [
    "type(URL_train.values)"
   ]
  },
  {
   "cell_type": "code",
   "execution_count": 23,
   "id": "4ffb9a74",
   "metadata": {},
   "outputs": [],
   "source": [
    "URL_train = URL_train.astype(str)"
   ]
  },
  {
   "cell_type": "code",
   "execution_count": 24,
   "id": "30e16cfb",
   "metadata": {},
   "outputs": [
    {
     "data": {
      "text/plain": [
       "<44800x30492 sparse matrix of type '<class 'numpy.int64'>'\n",
       "\twith 475517 stored elements in Compressed Sparse Row format>"
      ]
     },
     "execution_count": 24,
     "metadata": {},
     "output_type": "execute_result"
    }
   ],
   "source": [
    "#Create bag of words representation using CountVectorizer\n",
    "\n",
    "from sklearn.feature_extraction.text import CountVectorizer\n",
    "\n",
    "v = CountVectorizer() \n",
    "\n",
    "URL_train_cv = v.fit_transform(URL_train.values) #cv for count vect\n",
    "URL_train_cv"
   ]
  },
  {
   "cell_type": "code",
   "execution_count": 25,
   "id": "1d233f3c",
   "metadata": {},
   "outputs": [
    {
     "data": {
      "text/plain": [
       "(44800, 30492)"
      ]
     },
     "execution_count": 25,
     "metadata": {},
     "output_type": "execute_result"
    }
   ],
   "source": [
    "URL_train_cv.shape"
   ]
  },
  {
   "cell_type": "code",
   "execution_count": 26,
   "id": "f21b8278",
   "metadata": {},
   "outputs": [
    {
     "data": {
      "text/plain": [
       "array(['whitehead', 'whitehur', 'whiteside', 'whitley', 'whitson',\n",
       "       'whittinghill', 'whitwort', 'whorf', 'wicht', 'wickens', 'wickham',\n",
       "       'wide', 'wido', 'widuch', 'wiebe', 'wiedeman', 'wiedlin_steppat',\n",
       "       'wiele', 'wieman', 'wierzba', 'wiese7', 'wieth', 'wifred',\n",
       "       'wilbur', 'wildbolz', 'wilde', 'wildhagen_cavender', 'wildt_feng',\n",
       "       'wiley', 'wilfredo', 'wilfrid', 'wilie', 'wilken', 'wilkinso',\n",
       "       'willa', 'willeke5', 'willetta', 'william', 'williams9',\n",
       "       'williams_mellish', 'willie51', 'willingham', 'willison', 'willy',\n",
       "       'wilmer', 'wilmont', 'wilmot', 'wilson', 'wilton7', 'win'],\n",
       "      dtype=object)"
      ]
     },
     "execution_count": 26,
     "metadata": {},
     "output_type": "execute_result"
    }
   ],
   "source": [
    "v.get_feature_names_out()[30000:30050] #all the words in the vocabulary"
   ]
  },
  {
   "cell_type": "code",
   "execution_count": 27,
   "id": "9845c4a5",
   "metadata": {},
   "outputs": [],
   "source": [
    "#dir(v)"
   ]
  },
  {
   "cell_type": "code",
   "execution_count": 28,
   "id": "837f0056",
   "metadata": {},
   "outputs": [],
   "source": [
    "#print(v.vocabulary_)"
   ]
  },
  {
   "cell_type": "code",
   "execution_count": 31,
   "id": "8702cdb9",
   "metadata": {},
   "outputs": [
    {
     "data": {
      "text/html": [
       "<style>#sk-container-id-1 {color: black;}#sk-container-id-1 pre{padding: 0;}#sk-container-id-1 div.sk-toggleable {background-color: white;}#sk-container-id-1 label.sk-toggleable__label {cursor: pointer;display: block;width: 100%;margin-bottom: 0;padding: 0.3em;box-sizing: border-box;text-align: center;}#sk-container-id-1 label.sk-toggleable__label-arrow:before {content: \"▸\";float: left;margin-right: 0.25em;color: #696969;}#sk-container-id-1 label.sk-toggleable__label-arrow:hover:before {color: black;}#sk-container-id-1 div.sk-estimator:hover label.sk-toggleable__label-arrow:before {color: black;}#sk-container-id-1 div.sk-toggleable__content {max-height: 0;max-width: 0;overflow: hidden;text-align: left;background-color: #f0f8ff;}#sk-container-id-1 div.sk-toggleable__content pre {margin: 0.2em;color: black;border-radius: 0.25em;background-color: #f0f8ff;}#sk-container-id-1 input.sk-toggleable__control:checked~div.sk-toggleable__content {max-height: 200px;max-width: 100%;overflow: auto;}#sk-container-id-1 input.sk-toggleable__control:checked~label.sk-toggleable__label-arrow:before {content: \"▾\";}#sk-container-id-1 div.sk-estimator input.sk-toggleable__control:checked~label.sk-toggleable__label {background-color: #d4ebff;}#sk-container-id-1 div.sk-label input.sk-toggleable__control:checked~label.sk-toggleable__label {background-color: #d4ebff;}#sk-container-id-1 input.sk-hidden--visually {border: 0;clip: rect(1px 1px 1px 1px);clip: rect(1px, 1px, 1px, 1px);height: 1px;margin: -1px;overflow: hidden;padding: 0;position: absolute;width: 1px;}#sk-container-id-1 div.sk-estimator {font-family: monospace;background-color: #f0f8ff;border: 1px dotted black;border-radius: 0.25em;box-sizing: border-box;margin-bottom: 0.5em;}#sk-container-id-1 div.sk-estimator:hover {background-color: #d4ebff;}#sk-container-id-1 div.sk-parallel-item::after {content: \"\";width: 100%;border-bottom: 1px solid gray;flex-grow: 1;}#sk-container-id-1 div.sk-label:hover label.sk-toggleable__label {background-color: #d4ebff;}#sk-container-id-1 div.sk-serial::before {content: \"\";position: absolute;border-left: 1px solid gray;box-sizing: border-box;top: 0;bottom: 0;left: 50%;z-index: 0;}#sk-container-id-1 div.sk-serial {display: flex;flex-direction: column;align-items: center;background-color: white;padding-right: 0.2em;padding-left: 0.2em;position: relative;}#sk-container-id-1 div.sk-item {position: relative;z-index: 1;}#sk-container-id-1 div.sk-parallel {display: flex;align-items: stretch;justify-content: center;background-color: white;position: relative;}#sk-container-id-1 div.sk-item::before, #sk-container-id-1 div.sk-parallel-item::before {content: \"\";position: absolute;border-left: 1px solid gray;box-sizing: border-box;top: 0;bottom: 0;left: 50%;z-index: -1;}#sk-container-id-1 div.sk-parallel-item {display: flex;flex-direction: column;z-index: 1;position: relative;background-color: white;}#sk-container-id-1 div.sk-parallel-item:first-child::after {align-self: flex-end;width: 50%;}#sk-container-id-1 div.sk-parallel-item:last-child::after {align-self: flex-start;width: 50%;}#sk-container-id-1 div.sk-parallel-item:only-child::after {width: 0;}#sk-container-id-1 div.sk-dashed-wrapped {border: 1px dashed gray;margin: 0 0.4em 0.5em 0.4em;box-sizing: border-box;padding-bottom: 0.4em;background-color: white;}#sk-container-id-1 div.sk-label label {font-family: monospace;font-weight: bold;display: inline-block;line-height: 1.2em;}#sk-container-id-1 div.sk-label-container {text-align: center;}#sk-container-id-1 div.sk-container {/* jupyter's `normalize.less` sets `[hidden] { display: none; }` but bootstrap.min.css set `[hidden] { display: none !important; }` so we also need the `!important` here to be able to override the default hidden behavior on the sphinx rendered scikit-learn.org. See: https://github.com/scikit-learn/scikit-learn/issues/21755 */display: inline-block !important;position: relative;}#sk-container-id-1 div.sk-text-repr-fallback {display: none;}</style><div id=\"sk-container-id-1\" class=\"sk-top-container\"><div class=\"sk-text-repr-fallback\"><pre>MultinomialNB()</pre><b>In a Jupyter environment, please rerun this cell to show the HTML representation or trust the notebook. <br />On GitHub, the HTML representation is unable to render, please try loading this page with nbviewer.org.</b></div><div class=\"sk-container\" hidden><div class=\"sk-item\"><div class=\"sk-estimator sk-toggleable\"><input class=\"sk-toggleable__control sk-hidden--visually\" id=\"sk-estimator-id-1\" type=\"checkbox\" checked><label for=\"sk-estimator-id-1\" class=\"sk-toggleable__label sk-toggleable__label-arrow\">MultinomialNB</label><div class=\"sk-toggleable__content\"><pre>MultinomialNB()</pre></div></div></div></div></div>"
      ],
      "text/plain": [
       "MultinomialNB()"
      ]
     },
     "execution_count": 31,
     "metadata": {},
     "output_type": "execute_result"
    }
   ],
   "source": [
    "from sklearn.naive_bayes import MultinomialNB\n",
    "\n",
    "model = MultinomialNB()\n",
    "model.fit(URL_train_cv, y_train) # ken bel URLas a feature "
   ]
  },
  {
   "cell_type": "code",
   "execution_count": 32,
   "id": "8ec44b77",
   "metadata": {},
   "outputs": [],
   "source": [
    "URL_test_cv = v.transform(X_test.URL)"
   ]
  },
  {
   "cell_type": "code",
   "execution_count": 33,
   "id": "f87788f2",
   "metadata": {},
   "outputs": [
    {
     "data": {
      "text/plain": [
       "0.9274107142857143"
      ]
     },
     "execution_count": 33,
     "metadata": {},
     "output_type": "execute_result"
    }
   ],
   "source": [
    "model.score(URL_test_cv, y_test)"
   ]
  },
  {
   "cell_type": "code",
   "execution_count": 34,
   "id": "0e377e35",
   "metadata": {},
   "outputs": [
    {
     "name": "stdout",
     "output_type": "stream",
     "text": [
      "              precision    recall  f1-score   support\n",
      "\n",
      "           0       0.95      0.90      0.92      5517\n",
      "           1       0.91      0.96      0.93      5683\n",
      "\n",
      "    accuracy                           0.93     11200\n",
      "   macro avg       0.93      0.93      0.93     11200\n",
      "weighted avg       0.93      0.93      0.93     11200\n",
      "\n"
     ]
    }
   ],
   "source": [
    "from sklearn.metrics import classification_report\n",
    "\n",
    "y_pred = model.predict(URL_test_cv)\n",
    "\n",
    "print(classification_report(y_test, y_pred))"
   ]
  },
  {
   "cell_type": "markdown",
   "id": "5cfdafe2",
   "metadata": {},
   "source": [
    "## Boosting"
   ]
  },
  {
   "cell_type": "code",
   "execution_count": 35,
   "id": "d62a2bc9",
   "metadata": {},
   "outputs": [
    {
     "data": {
      "text/plain": [
       "0.9453571428571429"
      ]
     },
     "execution_count": 35,
     "metadata": {},
     "output_type": "execute_result"
    }
   ],
   "source": [
    "from sklearn.ensemble import AdaBoostClassifier \n",
    "clf = AdaBoostClassifier(n_estimators=100, random_state=0)\n",
    "clf.fit(URL_train_cv, y_train)\n",
    "clf.score(URL_test_cv, y_test) #we got an improved score"
   ]
  },
  {
   "cell_type": "markdown",
   "id": "e4006167",
   "metadata": {},
   "source": [
    "## Bagging"
   ]
  },
  {
   "cell_type": "markdown",
   "id": "4feb0496",
   "metadata": {},
   "source": [
    "Multinomial Naive Bayes"
   ]
  },
  {
   "cell_type": "code",
   "execution_count": 51,
   "id": "765ff284",
   "metadata": {},
   "outputs": [
    {
     "data": {
      "text/plain": [
       "0.9576339285714286"
      ]
     },
     "execution_count": 51,
     "metadata": {},
     "output_type": "execute_result"
    }
   ],
   "source": [
    "import warnings\n",
    "from sklearn.ensemble import BaggingClassifier\n",
    "# Suppress all warnings\n",
    "warnings.filterwarnings(\"ignore\")\n",
    "\n",
    "bag_model_nb = BaggingClassifier(\n",
    "    base_estimator=MultinomialNB(), \n",
    "    n_estimators=100, \n",
    "    max_samples=0.8, \n",
    "    oob_score=True,\n",
    "    random_state=0\n",
    ")\n",
    "bag_model_nb.fit(URL_train_cv, y_train)\n",
    "bag_model_nb.oob_score_"
   ]
  },
  {
   "cell_type": "code",
   "execution_count": 52,
   "id": "2ea2e814",
   "metadata": {},
   "outputs": [
    {
     "data": {
      "text/plain": [
       "0.92"
      ]
     },
     "execution_count": 52,
     "metadata": {},
     "output_type": "execute_result"
    }
   ],
   "source": [
    "bag_model_nb.score(URL_test_cv, y_test)"
   ]
  },
  {
   "cell_type": "code",
   "execution_count": 50,
   "id": "88d51f44",
   "metadata": {},
   "outputs": [
    {
     "data": {
      "text/plain": [
       "array([0.94933036, 0.95334821, 0.95100446, 0.93683036, 0.95625   ])"
      ]
     },
     "execution_count": 50,
     "metadata": {},
     "output_type": "execute_result"
    }
   ],
   "source": [
    "from sklearn.model_selection import cross_val_score\n",
    "\n",
    "bag_model = BaggingClassifier(\n",
    "    base_estimator=MultinomialNB(), \n",
    "    n_estimators=100, \n",
    "    max_samples=0.8, \n",
    "    oob_score=True,\n",
    "    random_state=0\n",
    ")\n",
    "scores = cross_val_score(bag_model, URL_train_cv, y_train, cv=5)\n",
    "scores"
   ]
  },
  {
   "cell_type": "markdown",
   "id": "7c7701cd",
   "metadata": {},
   "source": [
    "Logistic Regression"
   ]
  },
  {
   "cell_type": "code",
   "execution_count": 43,
   "id": "574a3993",
   "metadata": {},
   "outputs": [
    {
     "data": {
      "text/plain": [
       "0.96921875"
      ]
     },
     "execution_count": 43,
     "metadata": {},
     "output_type": "execute_result"
    }
   ],
   "source": [
    "from sklearn.linear_model import LogisticRegression\n",
    "warnings.filterwarnings(\"ignore\")\n",
    "bag_model_lr = BaggingClassifier(\n",
    "    base_estimator=LogisticRegression(), \n",
    "    n_estimators=100, \n",
    "    max_samples=0.8, \n",
    "    oob_score=True,\n",
    "    random_state=0\n",
    ")\n",
    "bag_model_lr.fit(URL_train_cv, y_train)\n",
    "bag_model_lr.oob_score_\n"
   ]
  },
  {
   "cell_type": "code",
   "execution_count": 44,
   "id": "0fa900d5",
   "metadata": {},
   "outputs": [
    {
     "data": {
      "text/plain": [
       "0.96875"
      ]
     },
     "execution_count": 44,
     "metadata": {},
     "output_type": "execute_result"
    }
   ],
   "source": [
    "bag_model_lr.score(URL_test_cv, y_test)"
   ]
  },
  {
   "cell_type": "markdown",
   "id": "39baf5ed",
   "metadata": {},
   "source": [
    "Support Vector Machine"
   ]
  },
  {
   "cell_type": "code",
   "execution_count": null,
   "id": "67cd2d43",
   "metadata": {},
   "outputs": [],
   "source": [
    "from sklearn import svm\n",
    "warnings.filterwarnings(\"ignore\")\n",
    "\n",
    "bag_model_svm = BaggingClassifier(\n",
    "    base_estimator=svm.SVC(), \n",
    "    n_estimators=100, \n",
    "    max_samples=0.8, \n",
    "    oob_score=True,\n",
    "    random_state=0\n",
    ")\n",
    "bag_model_svm.fit(URL_train_cv, y_train)\n",
    "bag_model_svm.oob_score_"
   ]
  },
  {
   "cell_type": "code",
   "execution_count": null,
   "id": "fe3eecb9",
   "metadata": {},
   "outputs": [],
   "source": [
    "bag_model_svm.score(URL_test_cv, y_test)"
   ]
  },
  {
   "cell_type": "code",
   "execution_count": null,
   "id": "8771a353",
   "metadata": {},
   "outputs": [],
   "source": [
    "from sklearn.ensemble import RandomForestClassifier\n",
    "\n",
    "from sklearn.model_selection import ShuffleSplit \n",
    "from sklearn.model_selection import cross_val_score\n",
    "cv= ShuffleSplit(n_splits=5, test_size=0.2 , random_state=0)\n",
    "cross_val_score(RandomForestClassifier(), URL_train_cv,y_train, cv=cv)\n",
    "\n",
    "\n",
    "from sklearn.ensemble import BaggingClassifier\n",
    "\n",
    "bag_model_random_forest = BaggingClassifier(\n",
    "    base_estimator=RandomForestClassifier(), \n",
    "    n_estimators=100, \n",
    "    max_samples=0.8, \n",
    "    oob_score=True,\n",
    "    random_state=0\n",
    ")\n",
    "scores = cross_val_score(bag_model_random_forest, URL_train_cv, y_train, cv=5)\n",
    "scores"
   ]
  },
  {
   "cell_type": "markdown",
   "id": "6b3f49be",
   "metadata": {},
   "source": [
    "Critiques: This technique (bag of words) is classical technique in NLP but has several downsides: \n",
    "\n",
    "1. Sparsity and high dimensionality: the vectors are mainly filled with zeros which is not optimal!\n",
    "2. Limitations in capturing relationships\n",
    "3. Not taking into account word frequency\n",
    "4. Loss of word order"
   ]
  }
 ],
 "metadata": {
  "kernelspec": {
   "display_name": "Python 3 (ipykernel)",
   "language": "python",
   "name": "python3"
  },
  "language_info": {
   "codemirror_mode": {
    "name": "ipython",
    "version": 3
   },
   "file_extension": ".py",
   "mimetype": "text/x-python",
   "name": "python",
   "nbconvert_exporter": "python",
   "pygments_lexer": "ipython3",
   "version": "3.10.9"
  }
 },
 "nbformat": 4,
 "nbformat_minor": 5
}
