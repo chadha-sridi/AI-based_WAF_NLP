{
 "cells": [
  {
   "cell_type": "markdown",
   "id": "4de4e4bf",
   "metadata": {},
   "source": [
    "# Cleaning CSIC Dataset"
   ]
  },
  {
   "cell_type": "code",
   "execution_count": 2,
   "id": "3c8f2cde",
   "metadata": {},
   "outputs": [],
   "source": [
    "import pandas as pd\n",
    "import numpy as np \n",
    "from matplotlib import pyplot as plt\n",
    "%matplotlib inline \n",
    "import matplotlib\n",
    "matplotlib.rcParams[\"figure.figsize\"]=(20,10)"
   ]
  },
  {
   "cell_type": "code",
   "execution_count": 3,
   "id": "a0346d26",
   "metadata": {},
   "outputs": [
    {
     "data": {
      "text/html": [
       "<div>\n",
       "<style scoped>\n",
       "    .dataframe tbody tr th:only-of-type {\n",
       "        vertical-align: middle;\n",
       "    }\n",
       "\n",
       "    .dataframe tbody tr th {\n",
       "        vertical-align: top;\n",
       "    }\n",
       "\n",
       "    .dataframe thead th {\n",
       "        text-align: right;\n",
       "    }\n",
       "</style>\n",
       "<table border=\"1\" class=\"dataframe\">\n",
       "  <thead>\n",
       "    <tr style=\"text-align: right;\">\n",
       "      <th></th>\n",
       "      <th>Unnamed: 0</th>\n",
       "      <th>Method</th>\n",
       "      <th>User-Agent</th>\n",
       "      <th>Pragma</th>\n",
       "      <th>Cache-Control</th>\n",
       "      <th>Accept</th>\n",
       "      <th>Accept-encoding</th>\n",
       "      <th>Accept-charset</th>\n",
       "      <th>language</th>\n",
       "      <th>host</th>\n",
       "      <th>cookie</th>\n",
       "      <th>content-type</th>\n",
       "      <th>connection</th>\n",
       "      <th>lenght</th>\n",
       "      <th>content</th>\n",
       "      <th>classification</th>\n",
       "      <th>URL</th>\n",
       "    </tr>\n",
       "  </thead>\n",
       "  <tbody>\n",
       "    <tr>\n",
       "      <th>0</th>\n",
       "      <td>Normal</td>\n",
       "      <td>GET</td>\n",
       "      <td>Mozilla/5.0 (compatible; Konqueror/3.5; Linux)...</td>\n",
       "      <td>no-cache</td>\n",
       "      <td>no-cache</td>\n",
       "      <td>text/xml,application/xml,application/xhtml+xml...</td>\n",
       "      <td>x-gzip, x-deflate, gzip, deflate</td>\n",
       "      <td>utf-8, utf-8;q=0.5, *;q=0.5</td>\n",
       "      <td>en</td>\n",
       "      <td>localhost:8080</td>\n",
       "      <td>JSESSIONID=1F767F17239C9B670A39E9B10C3825F4</td>\n",
       "      <td>NaN</td>\n",
       "      <td>close</td>\n",
       "      <td>NaN</td>\n",
       "      <td>NaN</td>\n",
       "      <td>0</td>\n",
       "      <td>http://localhost:8080/tienda1/index.jsp HTTP/1.1</td>\n",
       "    </tr>\n",
       "    <tr>\n",
       "      <th>1</th>\n",
       "      <td>Normal</td>\n",
       "      <td>GET</td>\n",
       "      <td>Mozilla/5.0 (compatible; Konqueror/3.5; Linux)...</td>\n",
       "      <td>no-cache</td>\n",
       "      <td>no-cache</td>\n",
       "      <td>text/xml,application/xml,application/xhtml+xml...</td>\n",
       "      <td>x-gzip, x-deflate, gzip, deflate</td>\n",
       "      <td>utf-8, utf-8;q=0.5, *;q=0.5</td>\n",
       "      <td>en</td>\n",
       "      <td>localhost:8080</td>\n",
       "      <td>JSESSIONID=81761ACA043B0E6014CA42A4BCD06AB5</td>\n",
       "      <td>NaN</td>\n",
       "      <td>close</td>\n",
       "      <td>NaN</td>\n",
       "      <td>NaN</td>\n",
       "      <td>0</td>\n",
       "      <td>http://localhost:8080/tienda1/publico/anadir.j...</td>\n",
       "    </tr>\n",
       "    <tr>\n",
       "      <th>2</th>\n",
       "      <td>Normal</td>\n",
       "      <td>POST</td>\n",
       "      <td>Mozilla/5.0 (compatible; Konqueror/3.5; Linux)...</td>\n",
       "      <td>no-cache</td>\n",
       "      <td>no-cache</td>\n",
       "      <td>text/xml,application/xml,application/xhtml+xml...</td>\n",
       "      <td>x-gzip, x-deflate, gzip, deflate</td>\n",
       "      <td>utf-8, utf-8;q=0.5, *;q=0.5</td>\n",
       "      <td>en</td>\n",
       "      <td>localhost:8080</td>\n",
       "      <td>JSESSIONID=933185092E0B668B90676E0A2B0767AF</td>\n",
       "      <td>application/x-www-form-urlencoded</td>\n",
       "      <td>Connection: close</td>\n",
       "      <td>Content-Length: 68</td>\n",
       "      <td>id=3&amp;nombre=Vino+Rioja&amp;precio=100&amp;cantidad=55&amp;...</td>\n",
       "      <td>0</td>\n",
       "      <td>http://localhost:8080/tienda1/publico/anadir.j...</td>\n",
       "    </tr>\n",
       "  </tbody>\n",
       "</table>\n",
       "</div>"
      ],
      "text/plain": [
       "  Unnamed: 0 Method                                         User-Agent  \\\n",
       "0     Normal    GET  Mozilla/5.0 (compatible; Konqueror/3.5; Linux)...   \n",
       "1     Normal    GET  Mozilla/5.0 (compatible; Konqueror/3.5; Linux)...   \n",
       "2     Normal   POST  Mozilla/5.0 (compatible; Konqueror/3.5; Linux)...   \n",
       "\n",
       "     Pragma Cache-Control                                             Accept  \\\n",
       "0  no-cache      no-cache  text/xml,application/xml,application/xhtml+xml...   \n",
       "1  no-cache      no-cache  text/xml,application/xml,application/xhtml+xml...   \n",
       "2  no-cache      no-cache  text/xml,application/xml,application/xhtml+xml...   \n",
       "\n",
       "                    Accept-encoding               Accept-charset language  \\\n",
       "0  x-gzip, x-deflate, gzip, deflate  utf-8, utf-8;q=0.5, *;q=0.5       en   \n",
       "1  x-gzip, x-deflate, gzip, deflate  utf-8, utf-8;q=0.5, *;q=0.5       en   \n",
       "2  x-gzip, x-deflate, gzip, deflate  utf-8, utf-8;q=0.5, *;q=0.5       en   \n",
       "\n",
       "             host                                       cookie  \\\n",
       "0  localhost:8080  JSESSIONID=1F767F17239C9B670A39E9B10C3825F4   \n",
       "1  localhost:8080  JSESSIONID=81761ACA043B0E6014CA42A4BCD06AB5   \n",
       "2  localhost:8080  JSESSIONID=933185092E0B668B90676E0A2B0767AF   \n",
       "\n",
       "                        content-type         connection              lenght  \\\n",
       "0                                NaN              close                 NaN   \n",
       "1                                NaN              close                 NaN   \n",
       "2  application/x-www-form-urlencoded  Connection: close  Content-Length: 68   \n",
       "\n",
       "                                             content  classification  \\\n",
       "0                                                NaN               0   \n",
       "1                                                NaN               0   \n",
       "2  id=3&nombre=Vino+Rioja&precio=100&cantidad=55&...               0   \n",
       "\n",
       "                                                 URL  \n",
       "0   http://localhost:8080/tienda1/index.jsp HTTP/1.1  \n",
       "1  http://localhost:8080/tienda1/publico/anadir.j...  \n",
       "2  http://localhost:8080/tienda1/publico/anadir.j...  "
      ]
     },
     "execution_count": 3,
     "metadata": {},
     "output_type": "execute_result"
    }
   ],
   "source": [
    "df1=pd.read_csv(\"csic.csv\")\n",
    "df1.head(3)"
   ]
  },
  {
   "cell_type": "code",
   "execution_count": 4,
   "id": "b462f7a5",
   "metadata": {},
   "outputs": [
    {
     "data": {
      "text/plain": [
       "(61065, 17)"
      ]
     },
     "execution_count": 4,
     "metadata": {},
     "output_type": "execute_result"
    }
   ],
   "source": [
    "df1.shape"
   ]
  },
  {
   "cell_type": "code",
   "execution_count": 5,
   "id": "6b7c3ab1",
   "metadata": {},
   "outputs": [
    {
     "data": {
      "text/plain": [
       "0    36000\n",
       "1    25065\n",
       "Name: classification, dtype: int64"
      ]
     },
     "execution_count": 5,
     "metadata": {},
     "output_type": "execute_result"
    }
   ],
   "source": [
    "df1.classification.value_counts()"
   ]
  },
  {
   "cell_type": "code",
   "execution_count": 6,
   "id": "4ac59979",
   "metadata": {},
   "outputs": [
    {
     "data": {
      "text/html": [
       "<div>\n",
       "<style scoped>\n",
       "    .dataframe tbody tr th:only-of-type {\n",
       "        vertical-align: middle;\n",
       "    }\n",
       "\n",
       "    .dataframe tbody tr th {\n",
       "        vertical-align: top;\n",
       "    }\n",
       "\n",
       "    .dataframe thead th {\n",
       "        text-align: right;\n",
       "    }\n",
       "</style>\n",
       "<table border=\"1\" class=\"dataframe\">\n",
       "  <thead>\n",
       "    <tr style=\"text-align: right;\">\n",
       "      <th></th>\n",
       "      <th>class</th>\n",
       "      <th>Method</th>\n",
       "      <th>User-Agent</th>\n",
       "      <th>Pragma</th>\n",
       "      <th>Cache-Control</th>\n",
       "      <th>Accept</th>\n",
       "      <th>Accept-encoding</th>\n",
       "      <th>Accept-charset</th>\n",
       "      <th>language</th>\n",
       "      <th>host</th>\n",
       "      <th>cookie</th>\n",
       "      <th>content-type</th>\n",
       "      <th>connection</th>\n",
       "      <th>lenght</th>\n",
       "      <th>content</th>\n",
       "      <th>classification</th>\n",
       "      <th>URL</th>\n",
       "    </tr>\n",
       "  </thead>\n",
       "  <tbody>\n",
       "    <tr>\n",
       "      <th>0</th>\n",
       "      <td>Normal</td>\n",
       "      <td>GET</td>\n",
       "      <td>Mozilla/5.0 (compatible; Konqueror/3.5; Linux)...</td>\n",
       "      <td>no-cache</td>\n",
       "      <td>no-cache</td>\n",
       "      <td>text/xml,application/xml,application/xhtml+xml...</td>\n",
       "      <td>x-gzip, x-deflate, gzip, deflate</td>\n",
       "      <td>utf-8, utf-8;q=0.5, *;q=0.5</td>\n",
       "      <td>en</td>\n",
       "      <td>localhost:8080</td>\n",
       "      <td>JSESSIONID=1F767F17239C9B670A39E9B10C3825F4</td>\n",
       "      <td>NaN</td>\n",
       "      <td>close</td>\n",
       "      <td>NaN</td>\n",
       "      <td>NaN</td>\n",
       "      <td>0</td>\n",
       "      <td>http://localhost:8080/tienda1/index.jsp HTTP/1.1</td>\n",
       "    </tr>\n",
       "    <tr>\n",
       "      <th>1</th>\n",
       "      <td>Normal</td>\n",
       "      <td>GET</td>\n",
       "      <td>Mozilla/5.0 (compatible; Konqueror/3.5; Linux)...</td>\n",
       "      <td>no-cache</td>\n",
       "      <td>no-cache</td>\n",
       "      <td>text/xml,application/xml,application/xhtml+xml...</td>\n",
       "      <td>x-gzip, x-deflate, gzip, deflate</td>\n",
       "      <td>utf-8, utf-8;q=0.5, *;q=0.5</td>\n",
       "      <td>en</td>\n",
       "      <td>localhost:8080</td>\n",
       "      <td>JSESSIONID=81761ACA043B0E6014CA42A4BCD06AB5</td>\n",
       "      <td>NaN</td>\n",
       "      <td>close</td>\n",
       "      <td>NaN</td>\n",
       "      <td>NaN</td>\n",
       "      <td>0</td>\n",
       "      <td>http://localhost:8080/tienda1/publico/anadir.j...</td>\n",
       "    </tr>\n",
       "    <tr>\n",
       "      <th>2</th>\n",
       "      <td>Normal</td>\n",
       "      <td>POST</td>\n",
       "      <td>Mozilla/5.0 (compatible; Konqueror/3.5; Linux)...</td>\n",
       "      <td>no-cache</td>\n",
       "      <td>no-cache</td>\n",
       "      <td>text/xml,application/xml,application/xhtml+xml...</td>\n",
       "      <td>x-gzip, x-deflate, gzip, deflate</td>\n",
       "      <td>utf-8, utf-8;q=0.5, *;q=0.5</td>\n",
       "      <td>en</td>\n",
       "      <td>localhost:8080</td>\n",
       "      <td>JSESSIONID=933185092E0B668B90676E0A2B0767AF</td>\n",
       "      <td>application/x-www-form-urlencoded</td>\n",
       "      <td>Connection: close</td>\n",
       "      <td>Content-Length: 68</td>\n",
       "      <td>id=3&amp;nombre=Vino+Rioja&amp;precio=100&amp;cantidad=55&amp;...</td>\n",
       "      <td>0</td>\n",
       "      <td>http://localhost:8080/tienda1/publico/anadir.j...</td>\n",
       "    </tr>\n",
       "  </tbody>\n",
       "</table>\n",
       "</div>"
      ],
      "text/plain": [
       "    class Method                                         User-Agent    Pragma  \\\n",
       "0  Normal    GET  Mozilla/5.0 (compatible; Konqueror/3.5; Linux)...  no-cache   \n",
       "1  Normal    GET  Mozilla/5.0 (compatible; Konqueror/3.5; Linux)...  no-cache   \n",
       "2  Normal   POST  Mozilla/5.0 (compatible; Konqueror/3.5; Linux)...  no-cache   \n",
       "\n",
       "  Cache-Control                                             Accept  \\\n",
       "0      no-cache  text/xml,application/xml,application/xhtml+xml...   \n",
       "1      no-cache  text/xml,application/xml,application/xhtml+xml...   \n",
       "2      no-cache  text/xml,application/xml,application/xhtml+xml...   \n",
       "\n",
       "                    Accept-encoding               Accept-charset language  \\\n",
       "0  x-gzip, x-deflate, gzip, deflate  utf-8, utf-8;q=0.5, *;q=0.5       en   \n",
       "1  x-gzip, x-deflate, gzip, deflate  utf-8, utf-8;q=0.5, *;q=0.5       en   \n",
       "2  x-gzip, x-deflate, gzip, deflate  utf-8, utf-8;q=0.5, *;q=0.5       en   \n",
       "\n",
       "             host                                       cookie  \\\n",
       "0  localhost:8080  JSESSIONID=1F767F17239C9B670A39E9B10C3825F4   \n",
       "1  localhost:8080  JSESSIONID=81761ACA043B0E6014CA42A4BCD06AB5   \n",
       "2  localhost:8080  JSESSIONID=933185092E0B668B90676E0A2B0767AF   \n",
       "\n",
       "                        content-type         connection              lenght  \\\n",
       "0                                NaN              close                 NaN   \n",
       "1                                NaN              close                 NaN   \n",
       "2  application/x-www-form-urlencoded  Connection: close  Content-Length: 68   \n",
       "\n",
       "                                             content  classification  \\\n",
       "0                                                NaN               0   \n",
       "1                                                NaN               0   \n",
       "2  id=3&nombre=Vino+Rioja&precio=100&cantidad=55&...               0   \n",
       "\n",
       "                                                 URL  \n",
       "0   http://localhost:8080/tienda1/index.jsp HTTP/1.1  \n",
       "1  http://localhost:8080/tienda1/publico/anadir.j...  \n",
       "2  http://localhost:8080/tienda1/publico/anadir.j...  "
      ]
     },
     "execution_count": 6,
     "metadata": {},
     "output_type": "execute_result"
    }
   ],
   "source": [
    "df2=df1.copy()\n",
    "df2.rename(columns={'Unnamed: 0': 'class'}, inplace=True)\n",
    "df2.head(3)"
   ]
  },
  {
   "cell_type": "code",
   "execution_count": 7,
   "id": "f61df5dd",
   "metadata": {},
   "outputs": [
    {
     "data": {
      "text/html": [
       "<div>\n",
       "<style scoped>\n",
       "    .dataframe tbody tr th:only-of-type {\n",
       "        vertical-align: middle;\n",
       "    }\n",
       "\n",
       "    .dataframe tbody tr th {\n",
       "        vertical-align: top;\n",
       "    }\n",
       "\n",
       "    .dataframe thead th {\n",
       "        text-align: right;\n",
       "    }\n",
       "</style>\n",
       "<table border=\"1\" class=\"dataframe\">\n",
       "  <thead>\n",
       "    <tr style=\"text-align: right;\">\n",
       "      <th></th>\n",
       "      <th>class</th>\n",
       "      <th>Method</th>\n",
       "      <th>lenght</th>\n",
       "      <th>content</th>\n",
       "      <th>classification</th>\n",
       "      <th>URL</th>\n",
       "    </tr>\n",
       "  </thead>\n",
       "  <tbody>\n",
       "    <tr>\n",
       "      <th>0</th>\n",
       "      <td>Normal</td>\n",
       "      <td>GET</td>\n",
       "      <td>NaN</td>\n",
       "      <td>NaN</td>\n",
       "      <td>0</td>\n",
       "      <td>http://localhost:8080/tienda1/index.jsp HTTP/1.1</td>\n",
       "    </tr>\n",
       "    <tr>\n",
       "      <th>1</th>\n",
       "      <td>Normal</td>\n",
       "      <td>GET</td>\n",
       "      <td>NaN</td>\n",
       "      <td>NaN</td>\n",
       "      <td>0</td>\n",
       "      <td>http://localhost:8080/tienda1/publico/anadir.j...</td>\n",
       "    </tr>\n",
       "    <tr>\n",
       "      <th>2</th>\n",
       "      <td>Normal</td>\n",
       "      <td>POST</td>\n",
       "      <td>Content-Length: 68</td>\n",
       "      <td>id=3&amp;nombre=Vino+Rioja&amp;precio=100&amp;cantidad=55&amp;...</td>\n",
       "      <td>0</td>\n",
       "      <td>http://localhost:8080/tienda1/publico/anadir.j...</td>\n",
       "    </tr>\n",
       "    <tr>\n",
       "      <th>3</th>\n",
       "      <td>Normal</td>\n",
       "      <td>GET</td>\n",
       "      <td>NaN</td>\n",
       "      <td>NaN</td>\n",
       "      <td>0</td>\n",
       "      <td>http://localhost:8080/tienda1/publico/autentic...</td>\n",
       "    </tr>\n",
       "    <tr>\n",
       "      <th>4</th>\n",
       "      <td>Normal</td>\n",
       "      <td>POST</td>\n",
       "      <td>Content-Length: 63</td>\n",
       "      <td>modo=entrar&amp;login=choong&amp;pwd=d1se3ci%F3n&amp;remem...</td>\n",
       "      <td>0</td>\n",
       "      <td>http://localhost:8080/tienda1/publico/autentic...</td>\n",
       "    </tr>\n",
       "    <tr>\n",
       "      <th>...</th>\n",
       "      <td>...</td>\n",
       "      <td>...</td>\n",
       "      <td>...</td>\n",
       "      <td>...</td>\n",
       "      <td>...</td>\n",
       "      <td>...</td>\n",
       "    </tr>\n",
       "    <tr>\n",
       "      <th>61060</th>\n",
       "      <td>Anomalous</td>\n",
       "      <td>GET</td>\n",
       "      <td>NaN</td>\n",
       "      <td>NaN</td>\n",
       "      <td>1</td>\n",
       "      <td>http://localhost:8080/tienda1/miembros/editar....</td>\n",
       "    </tr>\n",
       "    <tr>\n",
       "      <th>61061</th>\n",
       "      <td>Anomalous</td>\n",
       "      <td>POST</td>\n",
       "      <td>Content-Length: 255</td>\n",
       "      <td>modo=registro&amp;login=beaumont&amp;password=quEratIt...</td>\n",
       "      <td>1</td>\n",
       "      <td>http://localhost:8080/tienda1/miembros/editar....</td>\n",
       "    </tr>\n",
       "    <tr>\n",
       "      <th>61062</th>\n",
       "      <td>Anomalous</td>\n",
       "      <td>GET</td>\n",
       "      <td>NaN</td>\n",
       "      <td>NaN</td>\n",
       "      <td>1</td>\n",
       "      <td>http://localhost:8080/tienda1/miembros/editar....</td>\n",
       "    </tr>\n",
       "    <tr>\n",
       "      <th>61063</th>\n",
       "      <td>Anomalous</td>\n",
       "      <td>GET</td>\n",
       "      <td>NaN</td>\n",
       "      <td>NaN</td>\n",
       "      <td>1</td>\n",
       "      <td>http://localhost:8080/tienda1/imagenes/3.gif/ ...</td>\n",
       "    </tr>\n",
       "    <tr>\n",
       "      <th>61064</th>\n",
       "      <td>Anomalous</td>\n",
       "      <td>GET</td>\n",
       "      <td>NaN</td>\n",
       "      <td>NaN</td>\n",
       "      <td>1</td>\n",
       "      <td>http://localhost:8080/tienda1/imagenes/nuestra...</td>\n",
       "    </tr>\n",
       "  </tbody>\n",
       "</table>\n",
       "<p>61065 rows × 6 columns</p>\n",
       "</div>"
      ],
      "text/plain": [
       "           class Method               lenght  \\\n",
       "0         Normal    GET                  NaN   \n",
       "1         Normal    GET                  NaN   \n",
       "2         Normal   POST   Content-Length: 68   \n",
       "3         Normal    GET                  NaN   \n",
       "4         Normal   POST   Content-Length: 63   \n",
       "...          ...    ...                  ...   \n",
       "61060  Anomalous    GET                  NaN   \n",
       "61061  Anomalous   POST  Content-Length: 255   \n",
       "61062  Anomalous    GET                  NaN   \n",
       "61063  Anomalous    GET                  NaN   \n",
       "61064  Anomalous    GET                  NaN   \n",
       "\n",
       "                                                 content  classification  \\\n",
       "0                                                    NaN               0   \n",
       "1                                                    NaN               0   \n",
       "2      id=3&nombre=Vino+Rioja&precio=100&cantidad=55&...               0   \n",
       "3                                                    NaN               0   \n",
       "4      modo=entrar&login=choong&pwd=d1se3ci%F3n&remem...               0   \n",
       "...                                                  ...             ...   \n",
       "61060                                                NaN               1   \n",
       "61061  modo=registro&login=beaumont&password=quEratIt...               1   \n",
       "61062                                                NaN               1   \n",
       "61063                                                NaN               1   \n",
       "61064                                                NaN               1   \n",
       "\n",
       "                                                     URL  \n",
       "0       http://localhost:8080/tienda1/index.jsp HTTP/1.1  \n",
       "1      http://localhost:8080/tienda1/publico/anadir.j...  \n",
       "2      http://localhost:8080/tienda1/publico/anadir.j...  \n",
       "3      http://localhost:8080/tienda1/publico/autentic...  \n",
       "4      http://localhost:8080/tienda1/publico/autentic...  \n",
       "...                                                  ...  \n",
       "61060  http://localhost:8080/tienda1/miembros/editar....  \n",
       "61061  http://localhost:8080/tienda1/miembros/editar....  \n",
       "61062  http://localhost:8080/tienda1/miembros/editar....  \n",
       "61063  http://localhost:8080/tienda1/imagenes/3.gif/ ...  \n",
       "61064  http://localhost:8080/tienda1/imagenes/nuestra...  \n",
       "\n",
       "[61065 rows x 6 columns]"
      ]
     },
     "execution_count": 7,
     "metadata": {},
     "output_type": "execute_result"
    }
   ],
   "source": [
    "df3=df2.drop(['User-Agent','Pragma','Cache-Control','Accept-encoding','Accept-charset','language','connection','cookie','content-type','Accept','host'],axis='columns') #dropped all cols with 1 val\n",
    "df3"
   ]
  },
  {
   "cell_type": "code",
   "execution_count": 8,
   "id": "864c3f8c",
   "metadata": {},
   "outputs": [
    {
     "data": {
      "text/html": [
       "<div>\n",
       "<style scoped>\n",
       "    .dataframe tbody tr th:only-of-type {\n",
       "        vertical-align: middle;\n",
       "    }\n",
       "\n",
       "    .dataframe tbody tr th {\n",
       "        vertical-align: top;\n",
       "    }\n",
       "\n",
       "    .dataframe thead th {\n",
       "        text-align: right;\n",
       "    }\n",
       "</style>\n",
       "<table border=\"1\" class=\"dataframe\">\n",
       "  <thead>\n",
       "    <tr style=\"text-align: right;\">\n",
       "      <th></th>\n",
       "      <th>class</th>\n",
       "      <th>Method</th>\n",
       "      <th>length</th>\n",
       "      <th>content</th>\n",
       "      <th>classification</th>\n",
       "      <th>URL</th>\n",
       "    </tr>\n",
       "  </thead>\n",
       "  <tbody>\n",
       "    <tr>\n",
       "      <th>61055</th>\n",
       "      <td>Anomalous</td>\n",
       "      <td>PUT</td>\n",
       "      <td>Content-Length: 254</td>\n",
       "      <td>modo=registro&amp;login=beaumont&amp;password=quEratIt...</td>\n",
       "      <td>1</td>\n",
       "      <td>http://localhost:8080/tienda1/miembros/editar....</td>\n",
       "    </tr>\n",
       "    <tr>\n",
       "      <th>61056</th>\n",
       "      <td>Anomalous</td>\n",
       "      <td>GET</td>\n",
       "      <td>NaN</td>\n",
       "      <td>NaN</td>\n",
       "      <td>1</td>\n",
       "      <td>http://localhost:8080/tienda1/miembros/editar....</td>\n",
       "    </tr>\n",
       "    <tr>\n",
       "      <th>61057</th>\n",
       "      <td>Anomalous</td>\n",
       "      <td>POST</td>\n",
       "      <td>Content-Length: 320</td>\n",
       "      <td>modo=registro&amp;login=beaumont&amp;password=quEratIt...</td>\n",
       "      <td>1</td>\n",
       "      <td>http://localhost:8080/tienda1/miembros/editar....</td>\n",
       "    </tr>\n",
       "    <tr>\n",
       "      <th>61058</th>\n",
       "      <td>Anomalous</td>\n",
       "      <td>GET</td>\n",
       "      <td>NaN</td>\n",
       "      <td>NaN</td>\n",
       "      <td>1</td>\n",
       "      <td>http://localhost:8080/tienda1/miembros/editar....</td>\n",
       "    </tr>\n",
       "    <tr>\n",
       "      <th>61059</th>\n",
       "      <td>Anomalous</td>\n",
       "      <td>POST</td>\n",
       "      <td>Content-Length: 258</td>\n",
       "      <td>modo=registro&amp;login=%2Bmel%2Fhem&amp;password=quEr...</td>\n",
       "      <td>1</td>\n",
       "      <td>http://localhost:8080/tienda1/miembros/editar....</td>\n",
       "    </tr>\n",
       "    <tr>\n",
       "      <th>61060</th>\n",
       "      <td>Anomalous</td>\n",
       "      <td>GET</td>\n",
       "      <td>NaN</td>\n",
       "      <td>NaN</td>\n",
       "      <td>1</td>\n",
       "      <td>http://localhost:8080/tienda1/miembros/editar....</td>\n",
       "    </tr>\n",
       "    <tr>\n",
       "      <th>61061</th>\n",
       "      <td>Anomalous</td>\n",
       "      <td>POST</td>\n",
       "      <td>Content-Length: 255</td>\n",
       "      <td>modo=registro&amp;login=beaumont&amp;password=quEratIt...</td>\n",
       "      <td>1</td>\n",
       "      <td>http://localhost:8080/tienda1/miembros/editar....</td>\n",
       "    </tr>\n",
       "    <tr>\n",
       "      <th>61062</th>\n",
       "      <td>Anomalous</td>\n",
       "      <td>GET</td>\n",
       "      <td>NaN</td>\n",
       "      <td>NaN</td>\n",
       "      <td>1</td>\n",
       "      <td>http://localhost:8080/tienda1/miembros/editar....</td>\n",
       "    </tr>\n",
       "    <tr>\n",
       "      <th>61063</th>\n",
       "      <td>Anomalous</td>\n",
       "      <td>GET</td>\n",
       "      <td>NaN</td>\n",
       "      <td>NaN</td>\n",
       "      <td>1</td>\n",
       "      <td>http://localhost:8080/tienda1/imagenes/3.gif/ ...</td>\n",
       "    </tr>\n",
       "    <tr>\n",
       "      <th>61064</th>\n",
       "      <td>Anomalous</td>\n",
       "      <td>GET</td>\n",
       "      <td>NaN</td>\n",
       "      <td>NaN</td>\n",
       "      <td>1</td>\n",
       "      <td>http://localhost:8080/tienda1/imagenes/nuestra...</td>\n",
       "    </tr>\n",
       "  </tbody>\n",
       "</table>\n",
       "</div>"
      ],
      "text/plain": [
       "           class Method               length  \\\n",
       "61055  Anomalous    PUT  Content-Length: 254   \n",
       "61056  Anomalous    GET                  NaN   \n",
       "61057  Anomalous   POST  Content-Length: 320   \n",
       "61058  Anomalous    GET                  NaN   \n",
       "61059  Anomalous   POST  Content-Length: 258   \n",
       "61060  Anomalous    GET                  NaN   \n",
       "61061  Anomalous   POST  Content-Length: 255   \n",
       "61062  Anomalous    GET                  NaN   \n",
       "61063  Anomalous    GET                  NaN   \n",
       "61064  Anomalous    GET                  NaN   \n",
       "\n",
       "                                                 content  classification  \\\n",
       "61055  modo=registro&login=beaumont&password=quEratIt...               1   \n",
       "61056                                                NaN               1   \n",
       "61057  modo=registro&login=beaumont&password=quEratIt...               1   \n",
       "61058                                                NaN               1   \n",
       "61059  modo=registro&login=%2Bmel%2Fhem&password=quEr...               1   \n",
       "61060                                                NaN               1   \n",
       "61061  modo=registro&login=beaumont&password=quEratIt...               1   \n",
       "61062                                                NaN               1   \n",
       "61063                                                NaN               1   \n",
       "61064                                                NaN               1   \n",
       "\n",
       "                                                     URL  \n",
       "61055  http://localhost:8080/tienda1/miembros/editar....  \n",
       "61056  http://localhost:8080/tienda1/miembros/editar....  \n",
       "61057  http://localhost:8080/tienda1/miembros/editar....  \n",
       "61058  http://localhost:8080/tienda1/miembros/editar....  \n",
       "61059  http://localhost:8080/tienda1/miembros/editar....  \n",
       "61060  http://localhost:8080/tienda1/miembros/editar....  \n",
       "61061  http://localhost:8080/tienda1/miembros/editar....  \n",
       "61062  http://localhost:8080/tienda1/miembros/editar....  \n",
       "61063  http://localhost:8080/tienda1/imagenes/3.gif/ ...  \n",
       "61064  http://localhost:8080/tienda1/imagenes/nuestra...  "
      ]
     },
     "execution_count": 8,
     "metadata": {},
     "output_type": "execute_result"
    }
   ],
   "source": [
    "df3.rename(columns={'lenght': 'length'}, inplace=True)\n",
    "df3.tail(10)"
   ]
  },
  {
   "cell_type": "code",
   "execution_count": 9,
   "id": "e1c9e519",
   "metadata": {},
   "outputs": [
    {
     "name": "stdout",
     "output_type": "stream",
     "text": [
      "The 'url' column does not contain empty strings.\n"
     ]
    }
   ],
   "source": [
    "df3.isnull().sum()\n",
    "empty_url = df3['URL'].str.strip().empty\n",
    "\n",
    "if empty_url:\n",
    "    print(\"The 'url' column contains empty strings.\")\n",
    "else:\n",
    "    print(\"The 'url' column does not contain empty strings.\")"
   ]
  },
  {
   "cell_type": "raw",
   "id": "98cdad9d",
   "metadata": {},
   "source": [
    "We'll try a few things to understand our dataset and make it better exploitable"
   ]
  },
  {
   "cell_type": "code",
   "execution_count": 10,
   "id": "87cee6c1",
   "metadata": {},
   "outputs": [
    {
     "data": {
      "text/html": [
       "<div>\n",
       "<style scoped>\n",
       "    .dataframe tbody tr th:only-of-type {\n",
       "        vertical-align: middle;\n",
       "    }\n",
       "\n",
       "    .dataframe tbody tr th {\n",
       "        vertical-align: top;\n",
       "    }\n",
       "\n",
       "    .dataframe thead th {\n",
       "        text-align: right;\n",
       "    }\n",
       "</style>\n",
       "<table border=\"1\" class=\"dataframe\">\n",
       "  <thead>\n",
       "    <tr style=\"text-align: right;\">\n",
       "      <th></th>\n",
       "      <th>class</th>\n",
       "      <th>Method</th>\n",
       "      <th>length</th>\n",
       "      <th>content</th>\n",
       "      <th>classification</th>\n",
       "      <th>URL</th>\n",
       "    </tr>\n",
       "  </thead>\n",
       "  <tbody>\n",
       "  </tbody>\n",
       "</table>\n",
       "</div>"
      ],
      "text/plain": [
       "Empty DataFrame\n",
       "Columns: [class, Method, length, content, classification, URL]\n",
       "Index: []"
      ]
     },
     "execution_count": 10,
     "metadata": {},
     "output_type": "execute_result"
    }
   ],
   "source": [
    "df3[(df3[\"Method\"] == \"GET\") & (~df3[\"content\"].isna())] # all GET requests here are with NO content "
   ]
  },
  {
   "cell_type": "code",
   "execution_count": 11,
   "id": "689d417e",
   "metadata": {},
   "outputs": [
    {
     "data": {
      "text/plain": [
       "0    28000\n",
       "1    15088\n",
       "Name: classification, dtype: int64"
      ]
     },
     "execution_count": 11,
     "metadata": {},
     "output_type": "execute_result"
    }
   ],
   "source": [
    "df3[(df3[\"Method\"] == \"GET\") ].classification.value_counts()"
   ]
  },
  {
   "cell_type": "code",
   "execution_count": 12,
   "id": "231e6892",
   "metadata": {
    "scrolled": true
   },
   "outputs": [
    {
     "data": {
      "text/plain": [
       "array(['http://localhost:8080/tienda1/index.jsp HTTP/1.1',\n",
       "       'http://localhost:8080/tienda1/publico/anadir.jsp?id=3&nombre=Vino+Rioja&precio=100&cantidad=55&B1=A%F1adir+al+carrito HTTP/1.1',\n",
       "       'http://localhost:8080/tienda1/publico/autenticar.jsp?modo=entrar&login=choong&pwd=d1se3ci%F3n&remember=off&B1=Entrar HTTP/1.1',\n",
       "       ...,\n",
       "       'http://localhost:8080/tienda1/miembros/editar.jsp?modo=registro&login=beaumont&password=quEratItiS&nombre=Odilia&apellidos=Stumptner&email=henried%40cbgerindote.asia&dni=66631393W&direccion=C%2F+Xoana+Nogueira%2C+25+5%3FC&ciudad=Barrios%2C+Los&cp=46135&provincia=%C1vilaany%253F%250D%250ASet-cookie%253A%2BTamper%253D1041264011025374727&ntc=2498947451884473&B1=Registrar HTTP/1.1',\n",
       "       'http://localhost:8080/tienda1/miembros/editar.jsp?modo=registro&login=%2Bmel%2Fhem&password=quEratItiS&nombre=Odilia&apellidos=Stumptner&email=henried%40cbgerindote.asia&dni=66631393W&direccion=C%2F+Xoana+Nogueira%2C+25+5%3FC&ciudad=Barrios%2C+Los&cp=46135&provincia=%C1vila&ntc=2498947451884473&B1=Registrar HTTP/1.1',\n",
       "       'http://localhost:8080/tienda1/miembros/editar.jsp?modo=registro&login=beaumont&password=quEratItiS&nombre=Odilia&apellidos=Stumptner&email=henried%40cbgerindote.asia&dniA=66631393W&direccion=C%2F+Xoana+Nogueira%2C+25+5%3FC&ciudad=Barrios%2C+Los&cp=46135&provincia=%C1vila&ntc=2498947451884473&B1=Registrar HTTP/1.1'],\n",
       "      dtype=object)"
      ]
     },
     "execution_count": 12,
     "metadata": {},
     "output_type": "execute_result"
    }
   ],
   "source": [
    "df3[(df3[\"Method\"] == \"GET\") ].URL.unique() #contain content "
   ]
  },
  {
   "cell_type": "code",
   "execution_count": 13,
   "id": "6cb18f5e",
   "metadata": {},
   "outputs": [
    {
     "data": {
      "text/html": [
       "<div>\n",
       "<style scoped>\n",
       "    .dataframe tbody tr th:only-of-type {\n",
       "        vertical-align: middle;\n",
       "    }\n",
       "\n",
       "    .dataframe tbody tr th {\n",
       "        vertical-align: top;\n",
       "    }\n",
       "\n",
       "    .dataframe thead th {\n",
       "        text-align: right;\n",
       "    }\n",
       "</style>\n",
       "<table border=\"1\" class=\"dataframe\">\n",
       "  <thead>\n",
       "    <tr style=\"text-align: right;\">\n",
       "      <th></th>\n",
       "      <th>class</th>\n",
       "      <th>Method</th>\n",
       "      <th>length</th>\n",
       "      <th>content</th>\n",
       "      <th>classification</th>\n",
       "      <th>URL</th>\n",
       "    </tr>\n",
       "  </thead>\n",
       "  <tbody>\n",
       "  </tbody>\n",
       "</table>\n",
       "</div>"
      ],
      "text/plain": [
       "Empty DataFrame\n",
       "Columns: [class, Method, length, content, classification, URL]\n",
       "Index: []"
      ]
     },
     "execution_count": 13,
     "metadata": {},
     "output_type": "execute_result"
    }
   ],
   "source": [
    "df3[(df3[\"Method\"] == \"POST\") & (df3[\"content\"].isna())] #all post and put request are with content"
   ]
  },
  {
   "cell_type": "code",
   "execution_count": 14,
   "id": "1e0dcd94",
   "metadata": {},
   "outputs": [
    {
     "data": {
      "text/plain": [
       "'http://localhost:8080/tienda1/publico/anadir.jsp?id=3&nombre=Vino+Rioja&precio=100&cantidad=55&B1=A%F1adir+al+carrito HTTP/1.1'"
      ]
     },
     "execution_count": 14,
     "metadata": {},
     "output_type": "execute_result"
    }
   ],
   "source": [
    "df3.loc[1, \"URL\"]"
   ]
  },
  {
   "cell_type": "code",
   "execution_count": 15,
   "id": "5c8f51ab",
   "metadata": {},
   "outputs": [
    {
     "data": {
      "text/plain": [
       "'http://localhost:8080/tienda1/publico/anadir.jsp HTTP/1.1'"
      ]
     },
     "execution_count": 15,
     "metadata": {},
     "output_type": "execute_result"
    }
   ],
   "source": [
    "df3.loc[2, \"URL\"]"
   ]
  },
  {
   "cell_type": "code",
   "execution_count": 16,
   "id": "5ad3658b",
   "metadata": {},
   "outputs": [
    {
     "data": {
      "text/plain": [
       "'id=3&nombre=Vino+Rioja&precio=100&cantidad=55&B1=A%F1adir+al+carrito'"
      ]
     },
     "execution_count": 16,
     "metadata": {},
     "output_type": "execute_result"
    }
   ],
   "source": [
    "df3.loc[2, \"content\"]"
   ]
  },
  {
   "cell_type": "code",
   "execution_count": 17,
   "id": "4740e01b",
   "metadata": {},
   "outputs": [
    {
     "data": {
      "text/html": [
       "<div>\n",
       "<style scoped>\n",
       "    .dataframe tbody tr th:only-of-type {\n",
       "        vertical-align: middle;\n",
       "    }\n",
       "\n",
       "    .dataframe tbody tr th {\n",
       "        vertical-align: top;\n",
       "    }\n",
       "\n",
       "    .dataframe thead th {\n",
       "        text-align: right;\n",
       "    }\n",
       "</style>\n",
       "<table border=\"1\" class=\"dataframe\">\n",
       "  <thead>\n",
       "    <tr style=\"text-align: right;\">\n",
       "      <th></th>\n",
       "      <th>class</th>\n",
       "      <th>Method</th>\n",
       "      <th>length</th>\n",
       "      <th>content</th>\n",
       "      <th>classification</th>\n",
       "      <th>URL</th>\n",
       "    </tr>\n",
       "  </thead>\n",
       "  <tbody>\n",
       "    <tr>\n",
       "      <th>36000</th>\n",
       "      <td>Anomalous</td>\n",
       "      <td>GET</td>\n",
       "      <td>NaN</td>\n",
       "      <td>NaN</td>\n",
       "      <td>1</td>\n",
       "      <td>http://localhost:8080/tienda1/publico/anadir.j...</td>\n",
       "    </tr>\n",
       "    <tr>\n",
       "      <th>36002</th>\n",
       "      <td>Anomalous</td>\n",
       "      <td>GET</td>\n",
       "      <td>NaN</td>\n",
       "      <td>NaN</td>\n",
       "      <td>1</td>\n",
       "      <td>http://localhost:8080/tienda1/publico/anadir.j...</td>\n",
       "    </tr>\n",
       "    <tr>\n",
       "      <th>36004</th>\n",
       "      <td>Anomalous</td>\n",
       "      <td>GET</td>\n",
       "      <td>NaN</td>\n",
       "      <td>NaN</td>\n",
       "      <td>1</td>\n",
       "      <td>http://localhost:8080/asf-logo-wide.gif~ HTTP/1.1</td>\n",
       "    </tr>\n",
       "    <tr>\n",
       "      <th>36005</th>\n",
       "      <td>Anomalous</td>\n",
       "      <td>GET</td>\n",
       "      <td>NaN</td>\n",
       "      <td>NaN</td>\n",
       "      <td>1</td>\n",
       "      <td>http://localhost:8080/tienda1/publico/autentic...</td>\n",
       "    </tr>\n",
       "    <tr>\n",
       "      <th>36007</th>\n",
       "      <td>Anomalous</td>\n",
       "      <td>GET</td>\n",
       "      <td>NaN</td>\n",
       "      <td>NaN</td>\n",
       "      <td>1</td>\n",
       "      <td>http://localhost:8080/tienda1/publico/autentic...</td>\n",
       "    </tr>\n",
       "  </tbody>\n",
       "</table>\n",
       "</div>"
      ],
      "text/plain": [
       "           class Method length content  classification  \\\n",
       "36000  Anomalous    GET    NaN     NaN               1   \n",
       "36002  Anomalous    GET    NaN     NaN               1   \n",
       "36004  Anomalous    GET    NaN     NaN               1   \n",
       "36005  Anomalous    GET    NaN     NaN               1   \n",
       "36007  Anomalous    GET    NaN     NaN               1   \n",
       "\n",
       "                                                     URL  \n",
       "36000  http://localhost:8080/tienda1/publico/anadir.j...  \n",
       "36002  http://localhost:8080/tienda1/publico/anadir.j...  \n",
       "36004  http://localhost:8080/asf-logo-wide.gif~ HTTP/1.1  \n",
       "36005  http://localhost:8080/tienda1/publico/autentic...  \n",
       "36007  http://localhost:8080/tienda1/publico/autentic...  "
      ]
     },
     "execution_count": 17,
     "metadata": {},
     "output_type": "execute_result"
    }
   ],
   "source": [
    "df3[(df3[\"Method\"] == \"GET\") & (df3[\"classification\"] == 1)].head()"
   ]
  },
  {
   "cell_type": "code",
   "execution_count": 18,
   "id": "20176ba9",
   "metadata": {},
   "outputs": [
    {
     "data": {
      "text/plain": [
       "'http://localhost:8080/tienda1/publico/anadir.jsp?id=2&nombre=Jam%F3n+Ib%E9rico&precio=85&cantidad=%27%3B+DROP+TABLE+usuarios%3B+SELECT+*+FROM+datos+WHERE+nombre+LIKE+%27%25&B1=A%F1adir+al+carrito HTTP/1.1'"
      ]
     },
     "execution_count": 18,
     "metadata": {},
     "output_type": "execute_result"
    }
   ],
   "source": [
    "df3.loc[36000,\"URL\"]"
   ]
  },
  {
   "cell_type": "code",
   "execution_count": 19,
   "id": "e8ee6926",
   "metadata": {},
   "outputs": [
    {
     "data": {
      "text/plain": [
       "'id=2&nombre=Jam%F3n+Ib%E9rico&precio=85&cantidad=%27%3B+DROP+TABLE+usuarios%3B+SELECT+*+FROM+datos+WHERE+nombre+LIKE+%27%25&B1=A%F1adir+al+carrito'"
      ]
     },
     "execution_count": 19,
     "metadata": {},
     "output_type": "execute_result"
    }
   ],
   "source": [
    "df3.loc[36001,\"content\"]"
   ]
  },
  {
   "cell_type": "code",
   "execution_count": 20,
   "id": "8f39d42b",
   "metadata": {},
   "outputs": [
    {
     "data": {
      "text/plain": [
       "'http://localhost:8080/tienda1/publico/anadir.jsp HTTP/1.1'"
      ]
     },
     "execution_count": 20,
     "metadata": {},
     "output_type": "execute_result"
    }
   ],
   "source": [
    "df3.loc[36001,\"URL\"] #obseravtion: the value of content for this row is extracted from the URL of the previous row we'll try \n",
    "                    # see if this can be generalized "
   ]
  },
  {
   "cell_type": "code",
   "execution_count": 21,
   "id": "c7cb6979",
   "metadata": {},
   "outputs": [
    {
     "data": {
      "text/plain": [
       "class                                                     Anomalous\n",
       "Method                                                         POST\n",
       "length                                          Content-Length: 146\n",
       "content           id=2&nombre=Jam%F3n+Ib%E9rico&precio=85&cantid...\n",
       "classification                                                    1\n",
       "URL               http://localhost:8080/tienda1/publico/anadir.j...\n",
       "Name: 36001, dtype: object"
      ]
     },
     "execution_count": 21,
     "metadata": {},
     "output_type": "execute_result"
    }
   ],
   "source": [
    "df3.loc[36001]"
   ]
  },
  {
   "cell_type": "code",
   "execution_count": 22,
   "id": "6c3d11ce",
   "metadata": {},
   "outputs": [
    {
     "data": {
      "text/plain": [
       "class                                                     Anomalous\n",
       "Method                                                          GET\n",
       "length                                                          NaN\n",
       "content                                                         NaN\n",
       "classification                                                    1\n",
       "URL               http://localhost:8080/tienda1/publico/anadir.j...\n",
       "Name: 36000, dtype: object"
      ]
     },
     "execution_count": 22,
     "metadata": {},
     "output_type": "execute_result"
    }
   ],
   "source": [
    "df3.loc[36000] "
   ]
  },
  {
   "cell_type": "code",
   "execution_count": 23,
   "id": "82add3f5",
   "metadata": {},
   "outputs": [],
   "source": [
    "df4=df3.copy()\n",
    "#df4['content'] = df4['content'].fillna('') #we replace nan with '' since an empty string is a substring of any string"
   ]
  },
  {
   "cell_type": "code",
   "execution_count": 24,
   "id": "318be32d",
   "metadata": {},
   "outputs": [],
   "source": [
    "def find_matched_content(df):\n",
    "    matched_indexes= []\n",
    "    for i in range(1, len(df)):\n",
    "        content = str(df.iloc[i, df.columns.get_loc(\"content\")])\n",
    "        url = str(df.iloc[i-1, df.columns.get_loc(\"URL\")])\n",
    "        if content in url:\n",
    "            matched_indexes.append(i)\n",
    "    return matched_indexes"
   ]
  },
  {
   "cell_type": "code",
   "execution_count": 25,
   "id": "ac4ebce2",
   "metadata": {},
   "outputs": [
    {
     "data": {
      "text/plain": [
       "17580"
      ]
     },
     "execution_count": 25,
     "metadata": {},
     "output_type": "execute_result"
    }
   ],
   "source": [
    "matched_indexes=find_matched_content(df4)\n",
    "len(matched_indexes) "
   ]
  },
  {
   "cell_type": "code",
   "execution_count": 26,
   "id": "1b9f61c8",
   "metadata": {},
   "outputs": [
    {
     "data": {
      "text/plain": [
       "(61065, 6)"
      ]
     },
     "execution_count": 26,
     "metadata": {},
     "output_type": "execute_result"
    }
   ],
   "source": [
    "df4.shape #our observation applies to the majority of rows in the df(except 397 rows): ALL POST requests and doesn't apply to put requests"
   ]
  },
  {
   "cell_type": "code",
   "execution_count": 27,
   "id": "53535055",
   "metadata": {},
   "outputs": [],
   "source": [
    "matched_df = df4.loc[matched_indexes]"
   ]
  },
  {
   "cell_type": "code",
   "execution_count": 29,
   "id": "87cbc5e4",
   "metadata": {},
   "outputs": [
    {
     "data": {
      "text/plain": [
       "array(['POST'], dtype=object)"
      ]
     },
     "execution_count": 29,
     "metadata": {},
     "output_type": "execute_result"
    }
   ],
   "source": [
    "matched_df.Method.unique() "
   ]
  },
  {
   "cell_type": "code",
   "execution_count": 30,
   "id": "7fde5327",
   "metadata": {
    "scrolled": true
   },
   "outputs": [
    {
     "data": {
      "text/html": [
       "<div>\n",
       "<style scoped>\n",
       "    .dataframe tbody tr th:only-of-type {\n",
       "        vertical-align: middle;\n",
       "    }\n",
       "\n",
       "    .dataframe tbody tr th {\n",
       "        vertical-align: top;\n",
       "    }\n",
       "\n",
       "    .dataframe thead th {\n",
       "        text-align: right;\n",
       "    }\n",
       "</style>\n",
       "<table border=\"1\" class=\"dataframe\">\n",
       "  <thead>\n",
       "    <tr style=\"text-align: right;\">\n",
       "      <th></th>\n",
       "      <th>class</th>\n",
       "      <th>Method</th>\n",
       "      <th>length</th>\n",
       "      <th>content</th>\n",
       "      <th>classification</th>\n",
       "      <th>URL</th>\n",
       "    </tr>\n",
       "  </thead>\n",
       "  <tbody>\n",
       "    <tr>\n",
       "      <th>2</th>\n",
       "      <td>Normal</td>\n",
       "      <td>POST</td>\n",
       "      <td>Content-Length: 68</td>\n",
       "      <td>id=3&amp;nombre=Vino+Rioja&amp;precio=100&amp;cantidad=55&amp;...</td>\n",
       "      <td>0</td>\n",
       "      <td>http://localhost:8080/tienda1/publico/anadir.j...</td>\n",
       "    </tr>\n",
       "    <tr>\n",
       "      <th>4</th>\n",
       "      <td>Normal</td>\n",
       "      <td>POST</td>\n",
       "      <td>Content-Length: 63</td>\n",
       "      <td>modo=entrar&amp;login=choong&amp;pwd=d1se3ci%F3n&amp;remem...</td>\n",
       "      <td>0</td>\n",
       "      <td>http://localhost:8080/tienda1/publico/autentic...</td>\n",
       "    </tr>\n",
       "    <tr>\n",
       "      <th>6</th>\n",
       "      <td>Normal</td>\n",
       "      <td>POST</td>\n",
       "      <td>Content-Length: 4</td>\n",
       "      <td>id=2</td>\n",
       "      <td>0</td>\n",
       "      <td>http://localhost:8080/tienda1/publico/caracter...</td>\n",
       "    </tr>\n",
       "    <tr>\n",
       "      <th>9</th>\n",
       "      <td>Normal</td>\n",
       "      <td>POST</td>\n",
       "      <td>Content-Length: 33</td>\n",
       "      <td>errorMsg=Credenciales+incorrectas</td>\n",
       "      <td>0</td>\n",
       "      <td>http://localhost:8080/tienda1/publico/entrar.j...</td>\n",
       "    </tr>\n",
       "    <tr>\n",
       "      <th>12</th>\n",
       "      <td>Normal</td>\n",
       "      <td>POST</td>\n",
       "      <td>Content-Length: 43</td>\n",
       "      <td>modo=insertar&amp;precio=2672&amp;B1=Pasar+por+caja</td>\n",
       "      <td>0</td>\n",
       "      <td>http://localhost:8080/tienda1/publico/pagar.js...</td>\n",
       "    </tr>\n",
       "    <tr>\n",
       "      <th>...</th>\n",
       "      <td>...</td>\n",
       "      <td>...</td>\n",
       "      <td>...</td>\n",
       "      <td>...</td>\n",
       "      <td>...</td>\n",
       "      <td>...</td>\n",
       "    </tr>\n",
       "    <tr>\n",
       "      <th>61047</th>\n",
       "      <td>Anomalous</td>\n",
       "      <td>POST</td>\n",
       "      <td>Content-Length: 22</td>\n",
       "      <td>B2=Vaciar+carrito%252B</td>\n",
       "      <td>1</td>\n",
       "      <td>http://localhost:8080/tienda1/publico/vaciar.j...</td>\n",
       "    </tr>\n",
       "    <tr>\n",
       "      <th>61049</th>\n",
       "      <td>Anomalous</td>\n",
       "      <td>POST</td>\n",
       "      <td>Content-Length: 18</td>\n",
       "      <td>B2A=Vaciar+carrito</td>\n",
       "      <td>1</td>\n",
       "      <td>http://localhost:8080/tienda1/publico/vaciar.j...</td>\n",
       "    </tr>\n",
       "    <tr>\n",
       "      <th>61057</th>\n",
       "      <td>Anomalous</td>\n",
       "      <td>POST</td>\n",
       "      <td>Content-Length: 320</td>\n",
       "      <td>modo=registro&amp;login=beaumont&amp;password=quEratIt...</td>\n",
       "      <td>1</td>\n",
       "      <td>http://localhost:8080/tienda1/miembros/editar....</td>\n",
       "    </tr>\n",
       "    <tr>\n",
       "      <th>61059</th>\n",
       "      <td>Anomalous</td>\n",
       "      <td>POST</td>\n",
       "      <td>Content-Length: 258</td>\n",
       "      <td>modo=registro&amp;login=%2Bmel%2Fhem&amp;password=quEr...</td>\n",
       "      <td>1</td>\n",
       "      <td>http://localhost:8080/tienda1/miembros/editar....</td>\n",
       "    </tr>\n",
       "    <tr>\n",
       "      <th>61061</th>\n",
       "      <td>Anomalous</td>\n",
       "      <td>POST</td>\n",
       "      <td>Content-Length: 255</td>\n",
       "      <td>modo=registro&amp;login=beaumont&amp;password=quEratIt...</td>\n",
       "      <td>1</td>\n",
       "      <td>http://localhost:8080/tienda1/miembros/editar....</td>\n",
       "    </tr>\n",
       "  </tbody>\n",
       "</table>\n",
       "<p>17580 rows × 6 columns</p>\n",
       "</div>"
      ],
      "text/plain": [
       "           class Method               length  \\\n",
       "2         Normal   POST   Content-Length: 68   \n",
       "4         Normal   POST   Content-Length: 63   \n",
       "6         Normal   POST    Content-Length: 4   \n",
       "9         Normal   POST   Content-Length: 33   \n",
       "12        Normal   POST   Content-Length: 43   \n",
       "...          ...    ...                  ...   \n",
       "61047  Anomalous   POST   Content-Length: 22   \n",
       "61049  Anomalous   POST   Content-Length: 18   \n",
       "61057  Anomalous   POST  Content-Length: 320   \n",
       "61059  Anomalous   POST  Content-Length: 258   \n",
       "61061  Anomalous   POST  Content-Length: 255   \n",
       "\n",
       "                                                 content  classification  \\\n",
       "2      id=3&nombre=Vino+Rioja&precio=100&cantidad=55&...               0   \n",
       "4      modo=entrar&login=choong&pwd=d1se3ci%F3n&remem...               0   \n",
       "6                                                   id=2               0   \n",
       "9                      errorMsg=Credenciales+incorrectas               0   \n",
       "12           modo=insertar&precio=2672&B1=Pasar+por+caja               0   \n",
       "...                                                  ...             ...   \n",
       "61047                             B2=Vaciar+carrito%252B               1   \n",
       "61049                                 B2A=Vaciar+carrito               1   \n",
       "61057  modo=registro&login=beaumont&password=quEratIt...               1   \n",
       "61059  modo=registro&login=%2Bmel%2Fhem&password=quEr...               1   \n",
       "61061  modo=registro&login=beaumont&password=quEratIt...               1   \n",
       "\n",
       "                                                     URL  \n",
       "2      http://localhost:8080/tienda1/publico/anadir.j...  \n",
       "4      http://localhost:8080/tienda1/publico/autentic...  \n",
       "6      http://localhost:8080/tienda1/publico/caracter...  \n",
       "9      http://localhost:8080/tienda1/publico/entrar.j...  \n",
       "12     http://localhost:8080/tienda1/publico/pagar.js...  \n",
       "...                                                  ...  \n",
       "61047  http://localhost:8080/tienda1/publico/vaciar.j...  \n",
       "61049  http://localhost:8080/tienda1/publico/vaciar.j...  \n",
       "61057  http://localhost:8080/tienda1/miembros/editar....  \n",
       "61059  http://localhost:8080/tienda1/miembros/editar....  \n",
       "61061  http://localhost:8080/tienda1/miembros/editar....  \n",
       "\n",
       "[17580 rows x 6 columns]"
      ]
     },
     "execution_count": 30,
     "metadata": {},
     "output_type": "execute_result"
    }
   ],
   "source": [
    "matched_df #17580 is the number of POST requests in the original dataframe"
   ]
  },
  {
   "cell_type": "code",
   "execution_count": 31,
   "id": "5457c0a6",
   "metadata": {},
   "outputs": [
    {
     "data": {
      "text/plain": [
       "http://localhost:8080/tienda1/publico/anadir.jsp HTTP/1.1             2380\n",
       "http://localhost:8080/tienda1/publico/registro.jsp HTTP/1.1           2364\n",
       "http://localhost:8080/tienda1/miembros/editar.jsp HTTP/1.1            2362\n",
       "http://localhost:8080/tienda1/publico/autenticar.jsp HTTP/1.1         2361\n",
       "http://localhost:8080/tienda1/publico/pagar.jsp HTTP/1.1              2343\n",
       "http://localhost:8080/tienda1/publico/caracteristicas.jsp HTTP/1.1    1954\n",
       "http://localhost:8080/tienda1/publico/vaciar.jsp HTTP/1.1             1919\n",
       "http://localhost:8080/tienda1/publico/entrar.jsp HTTP/1.1             1897\n",
       "Name: URL, dtype: int64"
      ]
     },
     "execution_count": 31,
     "metadata": {},
     "output_type": "execute_result"
    }
   ],
   "source": [
    "matched_df.URL.value_counts()"
   ]
  },
  {
   "cell_type": "code",
   "execution_count": 29,
   "id": "06efc9e3",
   "metadata": {},
   "outputs": [
    {
     "name": "stdout",
     "output_type": "stream",
     "text": [
      "\n",
      "URL: http://localhost:8080/tienda1/publico/anadir.jsp HTTP/1.1\n",
      "Class 0 count: 1000\n",
      "Class 1 count: 1380\n",
      "\n",
      "URL: http://localhost:8080/tienda1/publico/autenticar.jsp HTTP/1.1\n",
      "Class 0 count: 1000\n",
      "Class 1 count: 1361\n",
      "\n",
      "URL: http://localhost:8080/tienda1/publico/caracteristicas.jsp HTTP/1.1\n",
      "Class 0 count: 1000\n",
      "Class 1 count: 954\n",
      "\n",
      "URL: http://localhost:8080/tienda1/publico/entrar.jsp HTTP/1.1\n",
      "Class 0 count: 1000\n",
      "Class 1 count: 897\n",
      "\n",
      "URL: http://localhost:8080/tienda1/publico/pagar.jsp HTTP/1.1\n",
      "Class 0 count: 1000\n",
      "Class 1 count: 1343\n",
      "\n",
      "URL: http://localhost:8080/tienda1/publico/registro.jsp HTTP/1.1\n",
      "Class 0 count: 1000\n",
      "Class 1 count: 1364\n",
      "\n",
      "URL: http://localhost:8080/tienda1/publico/vaciar.jsp HTTP/1.1\n",
      "Class 0 count: 1000\n",
      "Class 1 count: 919\n",
      "\n",
      "URL: http://localhost:8080/tienda1/miembros/editar.jsp HTTP/1.1\n",
      "Class 0 count: 1000\n",
      "Class 1 count: 1362\n"
     ]
    }
   ],
   "source": [
    "url_classification_counts = matched_df.groupby(['URL', 'classification']).size()\n",
    "\n",
    "# print the counts for each URL and classification value\n",
    "for url in matched_df['URL'].unique():\n",
    "    print(f\"\\nURL: {url}\")\n",
    "    if (url, 0) in url_classification_counts:\n",
    "        print(f\"Class 0 count: {url_classification_counts[(url, 0)]}\")\n",
    "    else:\n",
    "        print(\"Class 0 count: 0\")\n",
    "    if (url, 1) in url_classification_counts:\n",
    "        print(f\"Class 1 count: {url_classification_counts[(url, 1)]}\")\n",
    "    else:\n",
    "        print(\"Class 1 count: 0\")\n",
    "# if we drop the content column and work only with url that won't work cause for post requests it's classifying them based on content\n",
    "#the same url could be normal or anomalous based on content. "
   ]
  },
  {
   "cell_type": "code",
   "execution_count": 33,
   "id": "c6a9e8d4",
   "metadata": {},
   "outputs": [
    {
     "data": {
      "text/html": [
       "<div>\n",
       "<style scoped>\n",
       "    .dataframe tbody tr th:only-of-type {\n",
       "        vertical-align: middle;\n",
       "    }\n",
       "\n",
       "    .dataframe tbody tr th {\n",
       "        vertical-align: top;\n",
       "    }\n",
       "\n",
       "    .dataframe thead th {\n",
       "        text-align: right;\n",
       "    }\n",
       "</style>\n",
       "<table border=\"1\" class=\"dataframe\">\n",
       "  <thead>\n",
       "    <tr style=\"text-align: right;\">\n",
       "      <th></th>\n",
       "      <th>class</th>\n",
       "      <th>Method</th>\n",
       "      <th>length</th>\n",
       "      <th>content</th>\n",
       "      <th>classification</th>\n",
       "      <th>URL</th>\n",
       "    </tr>\n",
       "  </thead>\n",
       "  <tbody>\n",
       "    <tr>\n",
       "      <th>2</th>\n",
       "      <td>Normal</td>\n",
       "      <td>POST</td>\n",
       "      <td>Content-Length: 68</td>\n",
       "      <td>id=3&amp;nombre=Vino+Rioja&amp;precio=100&amp;cantidad=55&amp;...</td>\n",
       "      <td>0</td>\n",
       "      <td>http://localhost:8080/tienda1/publico/anadir.j...</td>\n",
       "    </tr>\n",
       "    <tr>\n",
       "      <th>4</th>\n",
       "      <td>Normal</td>\n",
       "      <td>POST</td>\n",
       "      <td>Content-Length: 63</td>\n",
       "      <td>modo=entrar&amp;login=choong&amp;pwd=d1se3ci%F3n&amp;remem...</td>\n",
       "      <td>0</td>\n",
       "      <td>http://localhost:8080/tienda1/publico/autentic...</td>\n",
       "    </tr>\n",
       "    <tr>\n",
       "      <th>6</th>\n",
       "      <td>Normal</td>\n",
       "      <td>POST</td>\n",
       "      <td>Content-Length: 4</td>\n",
       "      <td>id=2</td>\n",
       "      <td>0</td>\n",
       "      <td>http://localhost:8080/tienda1/publico/caracter...</td>\n",
       "    </tr>\n",
       "    <tr>\n",
       "      <th>9</th>\n",
       "      <td>Normal</td>\n",
       "      <td>POST</td>\n",
       "      <td>Content-Length: 33</td>\n",
       "      <td>errorMsg=Credenciales+incorrectas</td>\n",
       "      <td>0</td>\n",
       "      <td>http://localhost:8080/tienda1/publico/entrar.j...</td>\n",
       "    </tr>\n",
       "    <tr>\n",
       "      <th>12</th>\n",
       "      <td>Normal</td>\n",
       "      <td>POST</td>\n",
       "      <td>Content-Length: 43</td>\n",
       "      <td>modo=insertar&amp;precio=2672&amp;B1=Pasar+por+caja</td>\n",
       "      <td>0</td>\n",
       "      <td>http://localhost:8080/tienda1/publico/pagar.js...</td>\n",
       "    </tr>\n",
       "  </tbody>\n",
       "</table>\n",
       "</div>"
      ],
      "text/plain": [
       "     class Method              length  \\\n",
       "2   Normal   POST  Content-Length: 68   \n",
       "4   Normal   POST  Content-Length: 63   \n",
       "6   Normal   POST   Content-Length: 4   \n",
       "9   Normal   POST  Content-Length: 33   \n",
       "12  Normal   POST  Content-Length: 43   \n",
       "\n",
       "                                              content  classification  \\\n",
       "2   id=3&nombre=Vino+Rioja&precio=100&cantidad=55&...               0   \n",
       "4   modo=entrar&login=choong&pwd=d1se3ci%F3n&remem...               0   \n",
       "6                                                id=2               0   \n",
       "9                   errorMsg=Credenciales+incorrectas               0   \n",
       "12        modo=insertar&precio=2672&B1=Pasar+por+caja               0   \n",
       "\n",
       "                                                  URL  \n",
       "2   http://localhost:8080/tienda1/publico/anadir.j...  \n",
       "4   http://localhost:8080/tienda1/publico/autentic...  \n",
       "6   http://localhost:8080/tienda1/publico/caracter...  \n",
       "9   http://localhost:8080/tienda1/publico/entrar.j...  \n",
       "12  http://localhost:8080/tienda1/publico/pagar.js...  "
      ]
     },
     "execution_count": 33,
     "metadata": {},
     "output_type": "execute_result"
    }
   ],
   "source": [
    "matcheddf=matched_df.copy()\n",
    "matcheddf.head()"
   ]
  },
  {
   "cell_type": "code",
   "execution_count": 34,
   "id": "77390f58",
   "metadata": {},
   "outputs": [],
   "source": [
    "for i in matcheddf.index :\n",
    "    matchedurls= str(matcheddf.loc[i, \"URL\"])\n",
    "    matchedurls = matchedurls.strip()\n",
    "    matchedurls= matchedurls.split()[0]\n",
    "    originalurls = str(df4.loc[i-1, \"URL\"])\n",
    "    if matchedurls not in originalurls:\n",
    "        print(\"there is a problem\") \n",
    "#for our \"matched\" df the URL of the post requests is also a substring of the previous get request \n",
    "#this means that the url value of get requests is just parsed: the url path part is put in the url of the next post request\n",
    "#and the query string is put in the content of the next post request"
   ]
  },
  {
   "cell_type": "code",
   "execution_count": 35,
   "id": "51e1b1e8",
   "metadata": {},
   "outputs": [
    {
     "data": {
      "text/plain": [
       "'http://localhost:8080/tienda1/publico/anadir.jsp?id=3&nombre=Vino+Rioja&precio=100&cantidad=55&B1=A%F1adir+al+carrito HTTP/1.1'"
      ]
     },
     "execution_count": 35,
     "metadata": {},
     "output_type": "execute_result"
    }
   ],
   "source": [
    "df4.loc[1,\"URL\"] #visualizing that for an example"
   ]
  },
  {
   "cell_type": "code",
   "execution_count": 36,
   "id": "a4bf67a2",
   "metadata": {},
   "outputs": [
    {
     "data": {
      "text/plain": [
       "'http://localhost:8080/tienda1/publico/anadir.jsp HTTP/1.1'"
      ]
     },
     "execution_count": 36,
     "metadata": {},
     "output_type": "execute_result"
    }
   ],
   "source": [
    "matcheddf.loc[2,\"URL\"]"
   ]
  },
  {
   "cell_type": "code",
   "execution_count": 37,
   "id": "3f790c65",
   "metadata": {},
   "outputs": [
    {
     "data": {
      "text/plain": [
       "class             0\n",
       "Method            0\n",
       "length            0\n",
       "content           0\n",
       "classification    0\n",
       "URL               0\n",
       "dtype: int64"
      ]
     },
     "execution_count": 37,
     "metadata": {},
     "output_type": "execute_result"
    }
   ],
   "source": [
    "matched_df.isnull().sum()"
   ]
  },
  {
   "cell_type": "code",
   "execution_count": 38,
   "id": "4e1ff7be",
   "metadata": {},
   "outputs": [],
   "source": [
    "for i in matched_indexes:\n",
    "    if matched_df.loc[i,\"classification\"] != df4.loc[i-1,\"classification\"]:\n",
    "        print(\"there is a problem in classification\") \n",
    "# all is good the matches have same class\n",
    "for i in matched_indexes:\n",
    "    if df4.loc[i-1,\"Method\"] != \"GET\":\n",
    "        print(\"there is a problem in Method\") \n",
    "# ALL POST REQUESTS ARE PRECEDED BY GET REQUESTS AND THE CONTENT IN POST IS EXTACTED FROM THE PRECEDING GET AND THEY BOTH HAVE THE SAME CLASS => REDUNDANCY"
   ]
  },
  {
   "cell_type": "code",
   "execution_count": 39,
   "id": "876ff898",
   "metadata": {},
   "outputs": [
    {
     "data": {
      "text/plain": [
       "class                                                     Anomalous\n",
       "Method                                                          GET\n",
       "length                                                          NaN\n",
       "content                                                         NaN\n",
       "classification                                                    1\n",
       "URL               http://localhost:8080/tienda1/publico/vaciar.j...\n",
       "Name: 61046, dtype: object"
      ]
     },
     "execution_count": 39,
     "metadata": {},
     "output_type": "execute_result"
    }
   ],
   "source": [
    "df4.loc[61046]"
   ]
  },
  {
   "cell_type": "code",
   "execution_count": 40,
   "id": "fc75f310",
   "metadata": {},
   "outputs": [
    {
     "data": {
      "text/plain": [
       "'http://localhost:8080/tienda1/miembros/editar.jsp HTTP/1.1'"
      ]
     },
     "execution_count": 40,
     "metadata": {},
     "output_type": "execute_result"
    }
   ],
   "source": [
    "df4.loc[61057,\"URL\"]"
   ]
  },
  {
   "cell_type": "markdown",
   "id": "6d7c83b0",
   "metadata": {},
   "source": [
    "#### since we have a redundancy and we're not gonna base our classification on the http method, we'll not consider redundant rows"
   ]
  },
  {
   "cell_type": "code",
   "execution_count": 41,
   "id": "aed462da",
   "metadata": {},
   "outputs": [
    {
     "data": {
      "text/html": [
       "<div>\n",
       "<style scoped>\n",
       "    .dataframe tbody tr th:only-of-type {\n",
       "        vertical-align: middle;\n",
       "    }\n",
       "\n",
       "    .dataframe tbody tr th {\n",
       "        vertical-align: top;\n",
       "    }\n",
       "\n",
       "    .dataframe thead th {\n",
       "        text-align: right;\n",
       "    }\n",
       "</style>\n",
       "<table border=\"1\" class=\"dataframe\">\n",
       "  <thead>\n",
       "    <tr style=\"text-align: right;\">\n",
       "      <th></th>\n",
       "      <th>class</th>\n",
       "      <th>Method</th>\n",
       "      <th>length</th>\n",
       "      <th>content</th>\n",
       "      <th>classification</th>\n",
       "      <th>URL</th>\n",
       "    </tr>\n",
       "  </thead>\n",
       "  <tbody>\n",
       "    <tr>\n",
       "      <th>0</th>\n",
       "      <td>Normal</td>\n",
       "      <td>GET</td>\n",
       "      <td>NaN</td>\n",
       "      <td>NaN</td>\n",
       "      <td>0</td>\n",
       "      <td>http://localhost:8080/tienda1/index.jsp HTTP/1.1</td>\n",
       "    </tr>\n",
       "    <tr>\n",
       "      <th>1</th>\n",
       "      <td>Normal</td>\n",
       "      <td>GET</td>\n",
       "      <td>NaN</td>\n",
       "      <td>NaN</td>\n",
       "      <td>0</td>\n",
       "      <td>http://localhost:8080/tienda1/publico/anadir.j...</td>\n",
       "    </tr>\n",
       "    <tr>\n",
       "      <th>3</th>\n",
       "      <td>Normal</td>\n",
       "      <td>GET</td>\n",
       "      <td>NaN</td>\n",
       "      <td>NaN</td>\n",
       "      <td>0</td>\n",
       "      <td>http://localhost:8080/tienda1/publico/autentic...</td>\n",
       "    </tr>\n",
       "    <tr>\n",
       "      <th>5</th>\n",
       "      <td>Normal</td>\n",
       "      <td>GET</td>\n",
       "      <td>NaN</td>\n",
       "      <td>NaN</td>\n",
       "      <td>0</td>\n",
       "      <td>http://localhost:8080/tienda1/publico/caracter...</td>\n",
       "    </tr>\n",
       "    <tr>\n",
       "      <th>7</th>\n",
       "      <td>Normal</td>\n",
       "      <td>GET</td>\n",
       "      <td>NaN</td>\n",
       "      <td>NaN</td>\n",
       "      <td>0</td>\n",
       "      <td>http://localhost:8080/tienda1/publico/carrito....</td>\n",
       "    </tr>\n",
       "    <tr>\n",
       "      <th>...</th>\n",
       "      <td>...</td>\n",
       "      <td>...</td>\n",
       "      <td>...</td>\n",
       "      <td>...</td>\n",
       "      <td>...</td>\n",
       "      <td>...</td>\n",
       "    </tr>\n",
       "    <tr>\n",
       "      <th>35995</th>\n",
       "      <td>Normal</td>\n",
       "      <td>GET</td>\n",
       "      <td>NaN</td>\n",
       "      <td>NaN</td>\n",
       "      <td>0</td>\n",
       "      <td>http://localhost:8080/tienda1/imagenes/2.gif H...</td>\n",
       "    </tr>\n",
       "    <tr>\n",
       "      <th>35996</th>\n",
       "      <td>Normal</td>\n",
       "      <td>GET</td>\n",
       "      <td>NaN</td>\n",
       "      <td>NaN</td>\n",
       "      <td>0</td>\n",
       "      <td>http://localhost:8080/tienda1/imagenes/3.gif H...</td>\n",
       "    </tr>\n",
       "    <tr>\n",
       "      <th>35997</th>\n",
       "      <td>Normal</td>\n",
       "      <td>GET</td>\n",
       "      <td>NaN</td>\n",
       "      <td>NaN</td>\n",
       "      <td>0</td>\n",
       "      <td>http://localhost:8080/tienda1/imagenes/cmenbul...</td>\n",
       "    </tr>\n",
       "    <tr>\n",
       "      <th>35998</th>\n",
       "      <td>Normal</td>\n",
       "      <td>GET</td>\n",
       "      <td>NaN</td>\n",
       "      <td>NaN</td>\n",
       "      <td>0</td>\n",
       "      <td>http://localhost:8080/tienda1/imagenes/logo.gi...</td>\n",
       "    </tr>\n",
       "    <tr>\n",
       "      <th>35999</th>\n",
       "      <td>Normal</td>\n",
       "      <td>GET</td>\n",
       "      <td>NaN</td>\n",
       "      <td>NaN</td>\n",
       "      <td>0</td>\n",
       "      <td>http://localhost:8080/tienda1/imagenes/nuestra...</td>\n",
       "    </tr>\n",
       "  </tbody>\n",
       "</table>\n",
       "<p>28000 rows × 6 columns</p>\n",
       "</div>"
      ],
      "text/plain": [
       "        class Method length content  classification  \\\n",
       "0      Normal    GET    NaN     NaN               0   \n",
       "1      Normal    GET    NaN     NaN               0   \n",
       "3      Normal    GET    NaN     NaN               0   \n",
       "5      Normal    GET    NaN     NaN               0   \n",
       "7      Normal    GET    NaN     NaN               0   \n",
       "...       ...    ...    ...     ...             ...   \n",
       "35995  Normal    GET    NaN     NaN               0   \n",
       "35996  Normal    GET    NaN     NaN               0   \n",
       "35997  Normal    GET    NaN     NaN               0   \n",
       "35998  Normal    GET    NaN     NaN               0   \n",
       "35999  Normal    GET    NaN     NaN               0   \n",
       "\n",
       "                                                     URL  \n",
       "0       http://localhost:8080/tienda1/index.jsp HTTP/1.1  \n",
       "1      http://localhost:8080/tienda1/publico/anadir.j...  \n",
       "3      http://localhost:8080/tienda1/publico/autentic...  \n",
       "5      http://localhost:8080/tienda1/publico/caracter...  \n",
       "7      http://localhost:8080/tienda1/publico/carrito....  \n",
       "...                                                  ...  \n",
       "35995  http://localhost:8080/tienda1/imagenes/2.gif H...  \n",
       "35996  http://localhost:8080/tienda1/imagenes/3.gif H...  \n",
       "35997  http://localhost:8080/tienda1/imagenes/cmenbul...  \n",
       "35998  http://localhost:8080/tienda1/imagenes/logo.gi...  \n",
       "35999  http://localhost:8080/tienda1/imagenes/nuestra...  \n",
       "\n",
       "[28000 rows x 6 columns]"
      ]
     },
     "execution_count": 41,
     "metadata": {},
     "output_type": "execute_result"
    }
   ],
   "source": [
    "filtered_df = df4[(df4['Method'] == 'GET') & (df4['classification'] == 0)]\n",
    "filtered_df"
   ]
  },
  {
   "cell_type": "code",
   "execution_count": 42,
   "id": "eb45bd1f",
   "metadata": {},
   "outputs": [
    {
     "data": {
      "text/plain": [
       "class                 0\n",
       "Method                0\n",
       "length            28000\n",
       "content           28000\n",
       "classification        0\n",
       "URL                   0\n",
       "dtype: int64"
      ]
     },
     "execution_count": 42,
     "metadata": {},
     "output_type": "execute_result"
    }
   ],
   "source": [
    "filtered_df.isnull().sum() "
   ]
  },
  {
   "cell_type": "code",
   "execution_count": 43,
   "id": "9d7ab3ba",
   "metadata": {},
   "outputs": [
    {
     "data": {
      "text/plain": [
       "'http://localhost:8080/tienda1/publico/autenticar.jsp?modo=entrar&login=choong&pwd=d1se3ci%F3n&remember=off&B1=Entrar HTTP/1.1'"
      ]
     },
     "execution_count": 43,
     "metadata": {},
     "output_type": "execute_result"
    }
   ],
   "source": [
    "filtered_df.loc[3,\"URL\"]"
   ]
  },
  {
   "cell_type": "code",
   "execution_count": 44,
   "id": "da71339c",
   "metadata": {},
   "outputs": [
    {
     "data": {
      "text/plain": [
       "class                                                        Normal\n",
       "Method                                                          GET\n",
       "length                                                          NaN\n",
       "content                                                         NaN\n",
       "classification                                                    0\n",
       "URL               http://localhost:8080/tienda1/publico/autentic...\n",
       "Name: 3, dtype: object"
      ]
     },
     "execution_count": 44,
     "metadata": {},
     "output_type": "execute_result"
    }
   ],
   "source": [
    "df4.loc[3]"
   ]
  },
  {
   "cell_type": "code",
   "execution_count": 45,
   "id": "8639fbaf",
   "metadata": {},
   "outputs": [],
   "source": [
    "def find_mismatched_content(df):\n",
    "    mismatched_indexes= []\n",
    "    for i in range(1, len(df)):\n",
    "        content = str(df.iloc[i, df.columns.get_loc(\"content\")])\n",
    "        url = str(df.iloc[i-1, df.columns.get_loc(\"URL\")])\n",
    "        if content not in url:\n",
    "            mismatched_indexes.append(i)\n",
    "    return mismatched_indexes"
   ]
  },
  {
   "cell_type": "code",
   "execution_count": 46,
   "id": "1a9980f2",
   "metadata": {},
   "outputs": [],
   "source": [
    "mismatched_indexes = find_mismatched_content(df4)"
   ]
  },
  {
   "cell_type": "code",
   "execution_count": 47,
   "id": "f443fd85",
   "metadata": {},
   "outputs": [
    {
     "data": {
      "text/plain": [
       "43484"
      ]
     },
     "execution_count": 47,
     "metadata": {},
     "output_type": "execute_result"
    }
   ],
   "source": [
    "len(mismatched_indexes)"
   ]
  },
  {
   "cell_type": "code",
   "execution_count": 48,
   "id": "1333ec78",
   "metadata": {},
   "outputs": [],
   "source": [
    "mismatched_df = df4.loc[mismatched_indexes]"
   ]
  },
  {
   "cell_type": "code",
   "execution_count": 49,
   "id": "35061903",
   "metadata": {},
   "outputs": [
    {
     "data": {
      "text/html": [
       "<div>\n",
       "<style scoped>\n",
       "    .dataframe tbody tr th:only-of-type {\n",
       "        vertical-align: middle;\n",
       "    }\n",
       "\n",
       "    .dataframe tbody tr th {\n",
       "        vertical-align: top;\n",
       "    }\n",
       "\n",
       "    .dataframe thead th {\n",
       "        text-align: right;\n",
       "    }\n",
       "</style>\n",
       "<table border=\"1\" class=\"dataframe\">\n",
       "  <thead>\n",
       "    <tr style=\"text-align: right;\">\n",
       "      <th></th>\n",
       "      <th>class</th>\n",
       "      <th>Method</th>\n",
       "      <th>length</th>\n",
       "      <th>content</th>\n",
       "      <th>classification</th>\n",
       "      <th>URL</th>\n",
       "    </tr>\n",
       "  </thead>\n",
       "  <tbody>\n",
       "    <tr>\n",
       "      <th>1</th>\n",
       "      <td>Normal</td>\n",
       "      <td>GET</td>\n",
       "      <td>NaN</td>\n",
       "      <td>NaN</td>\n",
       "      <td>0</td>\n",
       "      <td>http://localhost:8080/tienda1/publico/anadir.j...</td>\n",
       "    </tr>\n",
       "    <tr>\n",
       "      <th>3</th>\n",
       "      <td>Normal</td>\n",
       "      <td>GET</td>\n",
       "      <td>NaN</td>\n",
       "      <td>NaN</td>\n",
       "      <td>0</td>\n",
       "      <td>http://localhost:8080/tienda1/publico/autentic...</td>\n",
       "    </tr>\n",
       "    <tr>\n",
       "      <th>5</th>\n",
       "      <td>Normal</td>\n",
       "      <td>GET</td>\n",
       "      <td>NaN</td>\n",
       "      <td>NaN</td>\n",
       "      <td>0</td>\n",
       "      <td>http://localhost:8080/tienda1/publico/caracter...</td>\n",
       "    </tr>\n",
       "    <tr>\n",
       "      <th>7</th>\n",
       "      <td>Normal</td>\n",
       "      <td>GET</td>\n",
       "      <td>NaN</td>\n",
       "      <td>NaN</td>\n",
       "      <td>0</td>\n",
       "      <td>http://localhost:8080/tienda1/publico/carrito....</td>\n",
       "    </tr>\n",
       "    <tr>\n",
       "      <th>8</th>\n",
       "      <td>Normal</td>\n",
       "      <td>GET</td>\n",
       "      <td>NaN</td>\n",
       "      <td>NaN</td>\n",
       "      <td>0</td>\n",
       "      <td>http://localhost:8080/tienda1/publico/entrar.j...</td>\n",
       "    </tr>\n",
       "  </tbody>\n",
       "</table>\n",
       "</div>"
      ],
      "text/plain": [
       "    class Method length content  classification  \\\n",
       "1  Normal    GET    NaN     NaN               0   \n",
       "3  Normal    GET    NaN     NaN               0   \n",
       "5  Normal    GET    NaN     NaN               0   \n",
       "7  Normal    GET    NaN     NaN               0   \n",
       "8  Normal    GET    NaN     NaN               0   \n",
       "\n",
       "                                                 URL  \n",
       "1  http://localhost:8080/tienda1/publico/anadir.j...  \n",
       "3  http://localhost:8080/tienda1/publico/autentic...  \n",
       "5  http://localhost:8080/tienda1/publico/caracter...  \n",
       "7  http://localhost:8080/tienda1/publico/carrito....  \n",
       "8  http://localhost:8080/tienda1/publico/entrar.j...  "
      ]
     },
     "execution_count": 49,
     "metadata": {},
     "output_type": "execute_result"
    }
   ],
   "source": [
    "mismatched_df.head()"
   ]
  },
  {
   "cell_type": "code",
   "execution_count": 50,
   "id": "289a74f6",
   "metadata": {},
   "outputs": [
    {
     "data": {
      "text/plain": [
       "array(['GET', 'PUT'], dtype=object)"
      ]
     },
     "execution_count": 50,
     "metadata": {},
     "output_type": "execute_result"
    }
   ],
   "source": [
    "mismatched_df.Method.unique() #only gets and puts"
   ]
  },
  {
   "cell_type": "code",
   "execution_count": 51,
   "id": "5875ff5f",
   "metadata": {},
   "outputs": [
    {
     "data": {
      "text/plain": [
       "GET     43088\n",
       "POST    17580\n",
       "PUT       397\n",
       "Name: Method, dtype: int64"
      ]
     },
     "execution_count": 51,
     "metadata": {},
     "output_type": "execute_result"
    }
   ],
   "source": [
    "df4.Method.value_counts() #the observation doesn't apply for PUT requests"
   ]
  },
  {
   "cell_type": "code",
   "execution_count": 52,
   "id": "5c91dc84",
   "metadata": {},
   "outputs": [
    {
     "data": {
      "text/plain": [
       "class                                                     Anomalous\n",
       "Method                                                          GET\n",
       "length                                                          NaN\n",
       "content                                                         NaN\n",
       "classification                                                    1\n",
       "URL               http://localhost:8080/tienda1/miembros/editar....\n",
       "Name: 61058, dtype: object"
      ]
     },
     "execution_count": 52,
     "metadata": {},
     "output_type": "execute_result"
    }
   ],
   "source": [
    "df4.loc[61058]"
   ]
  },
  {
   "cell_type": "code",
   "execution_count": 53,
   "id": "175a8ead",
   "metadata": {},
   "outputs": [
    {
     "data": {
      "text/plain": [
       "'http://localhost:8080/tienda1/miembros/editar.jsp?modo=registro&login=%2Bmel%2Fhem&password=quEratItiS&nombre=Odilia&apellidos=Stumptner&email=henried%40cbgerindote.asia&dni=66631393W&direccion=C%2F+Xoana+Nogueira%2C+25+5%3FC&ciudad=Barrios%2C+Los&cp=46135&provincia=%C1vila&ntc=2498947451884473&B1=Registrar HTTP/1.1'"
      ]
     },
     "execution_count": 53,
     "metadata": {},
     "output_type": "execute_result"
    }
   ],
   "source": [
    "df4.loc[61058,\"URL\"]"
   ]
  },
  {
   "cell_type": "code",
   "execution_count": 54,
   "id": "a2c2c95a",
   "metadata": {},
   "outputs": [
    {
     "data": {
      "text/plain": [
       "'modo=registro&login=%2Bmel%2Fhem&password=quEratItiS&nombre=Odilia&apellidos=Stumptner&email=henried%40cbgerindote.asia&dni=66631393W&direccion=C%2F+Xoana+Nogueira%2C+25+5%3FC&ciudad=Barrios%2C+Los&cp=46135&provincia=%C1vila&ntc=2498947451884473&B1=Registrar'"
      ]
     },
     "execution_count": 54,
     "metadata": {},
     "output_type": "execute_result"
    }
   ],
   "source": [
    "df4.loc[61059, \"content\"]"
   ]
  },
  {
   "cell_type": "code",
   "execution_count": 55,
   "id": "8e5aaee7",
   "metadata": {},
   "outputs": [
    {
     "data": {
      "text/plain": [
       "'http://localhost:8080/tienda1/miembros/imagenes/zarauz.jpg/asf-logo-wide.gif.old HTTP/1.1'"
      ]
     },
     "execution_count": 55,
     "metadata": {},
     "output_type": "execute_result"
    }
   ],
   "source": [
    "df4.loc[36042,\"URL\"]"
   ]
  },
  {
   "cell_type": "code",
   "execution_count": 56,
   "id": "e93cc0e2",
   "metadata": {},
   "outputs": [
    {
     "data": {
      "text/plain": [
       "class                                                     Anomalous\n",
       "Method                                                          PUT\n",
       "length                                          Content-Length: 252\n",
       "content           modo=registro&login=armand&password=prusiato&n...\n",
       "classification                                                    1\n",
       "URL               http://localhost:8080/tienda1/publico/registro...\n",
       "Name: 36024, dtype: object"
      ]
     },
     "execution_count": 56,
     "metadata": {},
     "output_type": "execute_result"
    }
   ],
   "source": [
    "df4.loc[36024]"
   ]
  },
  {
   "cell_type": "code",
   "execution_count": 57,
   "id": "b1875444",
   "metadata": {},
   "outputs": [
    {
     "name": "stdout",
     "output_type": "stream",
     "text": [
      "36024\n"
     ]
    }
   ],
   "source": [
    "for i in range(1, len(df4)):\n",
    "    if df4.iloc[i, df4.columns.get_loc('Method')] == 'PUT' and df4.iloc[i-1, df4.columns.get_loc('Method')] == 'POST': # we also try with get\n",
    "        print(i)\n",
    "        break\n",
    "else:\n",
    "    print(True)\n",
    "# put can be preceded by either get or post: no general rule\n",
    "# post is always preceded by get\n"
   ]
  },
  {
   "cell_type": "code",
   "execution_count": 58,
   "id": "937c7382",
   "metadata": {},
   "outputs": [],
   "source": [
    "PUT_df = df4[df4['Method'] == 'PUT']"
   ]
  },
  {
   "cell_type": "code",
   "execution_count": 59,
   "id": "0b3fa88f",
   "metadata": {},
   "outputs": [
    {
     "data": {
      "text/plain": [
       "(397, 6)"
      ]
     },
     "execution_count": 59,
     "metadata": {},
     "output_type": "execute_result"
    }
   ],
   "source": [
    "PUT_df.shape"
   ]
  },
  {
   "cell_type": "code",
   "execution_count": 60,
   "id": "c97e3912",
   "metadata": {},
   "outputs": [
    {
     "data": {
      "text/plain": [
       "class             0\n",
       "Method            0\n",
       "length            0\n",
       "content           0\n",
       "classification    0\n",
       "URL               0\n",
       "dtype: int64"
      ]
     },
     "execution_count": 60,
     "metadata": {},
     "output_type": "execute_result"
    }
   ],
   "source": [
    "PUT_df.isnull().sum()"
   ]
  },
  {
   "cell_type": "code",
   "execution_count": 61,
   "id": "1ec41ecd",
   "metadata": {},
   "outputs": [
    {
     "data": {
      "text/html": [
       "<div>\n",
       "<style scoped>\n",
       "    .dataframe tbody tr th:only-of-type {\n",
       "        vertical-align: middle;\n",
       "    }\n",
       "\n",
       "    .dataframe tbody tr th {\n",
       "        vertical-align: top;\n",
       "    }\n",
       "\n",
       "    .dataframe thead th {\n",
       "        text-align: right;\n",
       "    }\n",
       "</style>\n",
       "<table border=\"1\" class=\"dataframe\">\n",
       "  <thead>\n",
       "    <tr style=\"text-align: right;\">\n",
       "      <th></th>\n",
       "      <th>class</th>\n",
       "      <th>Method</th>\n",
       "      <th>length</th>\n",
       "      <th>content</th>\n",
       "      <th>classification</th>\n",
       "      <th>URL</th>\n",
       "    </tr>\n",
       "  </thead>\n",
       "  <tbody>\n",
       "    <tr>\n",
       "      <th>36024</th>\n",
       "      <td>Anomalous</td>\n",
       "      <td>PUT</td>\n",
       "      <td>Content-Length: 252</td>\n",
       "      <td>modo=registro&amp;login=armand&amp;password=prusiato&amp;n...</td>\n",
       "      <td>1</td>\n",
       "      <td>http://localhost:8080/tienda1/publico/registro...</td>\n",
       "    </tr>\n",
       "    <tr>\n",
       "      <th>36062</th>\n",
       "      <td>Anomalous</td>\n",
       "      <td>PUT</td>\n",
       "      <td>Content-Length: 63</td>\n",
       "      <td>modo=entrar&amp;login=modestin&amp;pwd=c69p04e13&amp;remem...</td>\n",
       "      <td>1</td>\n",
       "      <td>http://localhost:8080/tienda1/publico/autentic...</td>\n",
       "    </tr>\n",
       "    <tr>\n",
       "      <th>36070</th>\n",
       "      <td>Anomalous</td>\n",
       "      <td>PUT</td>\n",
       "      <td>Content-Length: 4</td>\n",
       "      <td>id=1</td>\n",
       "      <td>1</td>\n",
       "      <td>http://localhost:8080/tienda1/publico/caracter...</td>\n",
       "    </tr>\n",
       "    <tr>\n",
       "      <th>36187</th>\n",
       "      <td>Anomalous</td>\n",
       "      <td>PUT</td>\n",
       "      <td>Content-Length: 237</td>\n",
       "      <td>modo=registro&amp;login=oberon&amp;password=atab2rdi8l...</td>\n",
       "      <td>1</td>\n",
       "      <td>http://localhost:8080/tienda1/publico/registro...</td>\n",
       "    </tr>\n",
       "    <tr>\n",
       "      <th>36219</th>\n",
       "      <td>Anomalous</td>\n",
       "      <td>PUT</td>\n",
       "      <td>Content-Length: 33</td>\n",
       "      <td>errorMsg=Credenciales+incorrectas</td>\n",
       "      <td>1</td>\n",
       "      <td>http://localhost:8080/tienda1/publico/entrar.j...</td>\n",
       "    </tr>\n",
       "  </tbody>\n",
       "</table>\n",
       "</div>"
      ],
      "text/plain": [
       "           class Method               length  \\\n",
       "36024  Anomalous    PUT  Content-Length: 252   \n",
       "36062  Anomalous    PUT   Content-Length: 63   \n",
       "36070  Anomalous    PUT    Content-Length: 4   \n",
       "36187  Anomalous    PUT  Content-Length: 237   \n",
       "36219  Anomalous    PUT   Content-Length: 33   \n",
       "\n",
       "                                                 content  classification  \\\n",
       "36024  modo=registro&login=armand&password=prusiato&n...               1   \n",
       "36062  modo=entrar&login=modestin&pwd=c69p04e13&remem...               1   \n",
       "36070                                               id=1               1   \n",
       "36187  modo=registro&login=oberon&password=atab2rdi8l...               1   \n",
       "36219                  errorMsg=Credenciales+incorrectas               1   \n",
       "\n",
       "                                                     URL  \n",
       "36024  http://localhost:8080/tienda1/publico/registro...  \n",
       "36062  http://localhost:8080/tienda1/publico/autentic...  \n",
       "36070  http://localhost:8080/tienda1/publico/caracter...  \n",
       "36187  http://localhost:8080/tienda1/publico/registro...  \n",
       "36219  http://localhost:8080/tienda1/publico/entrar.j...  "
      ]
     },
     "execution_count": 61,
     "metadata": {},
     "output_type": "execute_result"
    }
   ],
   "source": [
    "PUT_df.head()"
   ]
  },
  {
   "cell_type": "code",
   "execution_count": 62,
   "id": "c92e84ae",
   "metadata": {},
   "outputs": [],
   "source": [
    "GET_df = df4[df4['Method'] == 'GET']"
   ]
  },
  {
   "cell_type": "code",
   "execution_count": 63,
   "id": "befba376",
   "metadata": {},
   "outputs": [],
   "source": [
    "def check_content_in_get_urls(PUT_df, GET_df, i):\n",
    "    content = PUT_df.loc[i, 'content']\n",
    "    get_urls = GET_df['URL'].tolist()\n",
    "    \n",
    "    for url in get_urls:\n",
    "        if content in url:\n",
    "            return True\n",
    "    \n",
    "    return False\n"
   ]
  },
  {
   "cell_type": "code",
   "execution_count": 65,
   "id": "ab857139",
   "metadata": {},
   "outputs": [],
   "source": [
    "def find_matching_PUT_indexes() :\n",
    "    PUT_matches=[]\n",
    "    for i in PUT_df.index:\n",
    "        if check_content_in_get_urls (PUT_df, GET_df , i ) == True :\n",
    "            PUT_matches.append(i)\n",
    "    return PUT_matches"
   ]
  },
  {
   "cell_type": "code",
   "execution_count": 66,
   "id": "1397e9aa",
   "metadata": {},
   "outputs": [],
   "source": [
    "PUT_matched_indexes=find_matching_PUT_indexes() #now let's verify if these requests are extracted from get requests the same way as posts"
   ]
  },
  {
   "cell_type": "code",
   "execution_count": 67,
   "id": "3b1237ea",
   "metadata": {},
   "outputs": [
    {
     "data": {
      "text/plain": [
       "191"
      ]
     },
     "execution_count": 67,
     "metadata": {},
     "output_type": "execute_result"
    }
   ],
   "source": [
    "len(PUT_matched_indexes)"
   ]
  },
  {
   "cell_type": "code",
   "execution_count": 68,
   "id": "0cfc2557",
   "metadata": {},
   "outputs": [],
   "source": [
    "def find_mismatching_PUT_indexes ():\n",
    "    PUT_mismatches=[]\n",
    "    for i in PUT_df.index:\n",
    "        if check_content_in_get_urls (PUT_df, GET_df , i ) == False :\n",
    "            PUT_mismatches.append(i)\n",
    "    return PUT_mismatches"
   ]
  },
  {
   "cell_type": "code",
   "execution_count": 72,
   "id": "054ffd5a",
   "metadata": {
    "scrolled": false
   },
   "outputs": [
    {
     "data": {
      "text/plain": [
       "206"
      ]
     },
     "execution_count": 72,
     "metadata": {},
     "output_type": "execute_result"
    }
   ],
   "source": [
    "len(find_mismatching_PUT_indexes()) #nothing general"
   ]
  },
  {
   "cell_type": "code",
   "execution_count": 73,
   "id": "bb935925",
   "metadata": {},
   "outputs": [
    {
     "data": {
      "text/plain": [
       "class                                                     Anomalous\n",
       "Method                                                          PUT\n",
       "length                                            Content-Length: 4\n",
       "content                                                        id=1\n",
       "classification                                                    1\n",
       "URL               http://localhost:8080/tienda1/publico/caracter...\n",
       "Name: 36070, dtype: object"
      ]
     },
     "execution_count": 73,
     "metadata": {},
     "output_type": "execute_result"
    }
   ],
   "source": [
    "df4.loc[36070]"
   ]
  },
  {
   "cell_type": "code",
   "execution_count": 74,
   "id": "96922022",
   "metadata": {},
   "outputs": [
    {
     "data": {
      "text/plain": [
       "'http://localhost:8080/tienda1/publico/caracteristicas.jsp HTTP/1.1'"
      ]
     },
     "execution_count": 74,
     "metadata": {},
     "output_type": "execute_result"
    }
   ],
   "source": [
    "df4.loc[36070, \"URL\"]"
   ]
  },
  {
   "cell_type": "code",
   "execution_count": 75,
   "id": "f1db9cdb",
   "metadata": {},
   "outputs": [
    {
     "data": {
      "text/plain": [
       "'http://localhost:8080/tienda1/4861362529278789730 HTTP/1.1'"
      ]
     },
     "execution_count": 75,
     "metadata": {},
     "output_type": "execute_result"
    }
   ],
   "source": [
    "df4.loc[36069, \"URL\"]"
   ]
  },
  {
   "cell_type": "code",
   "execution_count": 76,
   "id": "2243cc78",
   "metadata": {},
   "outputs": [
    {
     "data": {
      "text/plain": [
       "B2=Vaciar+carrito                                                                                                                                                                                                                                               46\n",
       "errorMsg=Credenciales+incorrectas                                                                                                                                                                                                                               41\n",
       "id=1                                                                                                                                                                                                                                                            30\n",
       "id=2                                                                                                                                                                                                                                                            19\n",
       "modo=registro&login=armand&password=prusiato&nombre=Samia&apellidos=Catalayud+Mirabet&email=balademas.mareuil6%40enlanzarote.com.vc&dni=28178710F&direccion=C%2F+Cala%2C+9%2C+&ciudad=Mutxamel&cp=25332&provincia=Zaragoza&ntc=8608089924764976&B1=Registrar     1\n",
       "Name: content, dtype: int64"
      ]
     },
     "execution_count": 76,
     "metadata": {},
     "output_type": "execute_result"
    }
   ],
   "source": [
    "PUT_df.content.value_counts().head()"
   ]
  },
  {
   "cell_type": "code",
   "execution_count": 77,
   "id": "56e3e4bb",
   "metadata": {},
   "outputs": [],
   "source": [
    "POST_df= df4[df4['Method'] == 'POST']"
   ]
  },
  {
   "cell_type": "code",
   "execution_count": 78,
   "id": "d3a7be39",
   "metadata": {},
   "outputs": [
    {
     "data": {
      "text/plain": [
       "errorMsg=Credenciales+incorrectas    1000\n",
       "B2=Vaciar+carrito                    1000\n",
       "id=2                                  522\n",
       "id=1                                  478\n",
       "B2A=Vaciar+carrito                    451\n",
       "Name: content, dtype: int64"
      ]
     },
     "execution_count": 78,
     "metadata": {},
     "output_type": "execute_result"
    }
   ],
   "source": [
    "POST_df.content.value_counts().head()"
   ]
  },
  {
   "cell_type": "code",
   "execution_count": 79,
   "id": "95e5013d",
   "metadata": {},
   "outputs": [],
   "source": [
    "df5=df4.copy()"
   ]
  },
  {
   "cell_type": "code",
   "execution_count": 80,
   "id": "77552e47",
   "metadata": {},
   "outputs": [
    {
     "data": {
      "text/html": [
       "<div>\n",
       "<style scoped>\n",
       "    .dataframe tbody tr th:only-of-type {\n",
       "        vertical-align: middle;\n",
       "    }\n",
       "\n",
       "    .dataframe tbody tr th {\n",
       "        vertical-align: top;\n",
       "    }\n",
       "\n",
       "    .dataframe thead th {\n",
       "        text-align: right;\n",
       "    }\n",
       "</style>\n",
       "<table border=\"1\" class=\"dataframe\">\n",
       "  <thead>\n",
       "    <tr style=\"text-align: right;\">\n",
       "      <th></th>\n",
       "      <th>class</th>\n",
       "      <th>Method</th>\n",
       "      <th>length</th>\n",
       "      <th>content</th>\n",
       "      <th>classification</th>\n",
       "      <th>URL</th>\n",
       "    </tr>\n",
       "  </thead>\n",
       "  <tbody>\n",
       "    <tr>\n",
       "      <th>0</th>\n",
       "      <td>Normal</td>\n",
       "      <td>GET</td>\n",
       "      <td>NaN</td>\n",
       "      <td>NaN</td>\n",
       "      <td>0</td>\n",
       "      <td>http://localhost:8080/tienda1/index.jsp HTTP/1.1</td>\n",
       "    </tr>\n",
       "    <tr>\n",
       "      <th>1</th>\n",
       "      <td>Normal</td>\n",
       "      <td>GET</td>\n",
       "      <td>NaN</td>\n",
       "      <td>NaN</td>\n",
       "      <td>0</td>\n",
       "      <td>http://localhost:8080/tienda1/publico/anadir.j...</td>\n",
       "    </tr>\n",
       "    <tr>\n",
       "      <th>2</th>\n",
       "      <td>Normal</td>\n",
       "      <td>POST</td>\n",
       "      <td>Content-Length: 68</td>\n",
       "      <td>id=3&amp;nombre=Vino+Rioja&amp;precio=100&amp;cantidad=55&amp;...</td>\n",
       "      <td>0</td>\n",
       "      <td>http://localhost:8080/tienda1/publico/anadir.j...</td>\n",
       "    </tr>\n",
       "    <tr>\n",
       "      <th>3</th>\n",
       "      <td>Normal</td>\n",
       "      <td>GET</td>\n",
       "      <td>NaN</td>\n",
       "      <td>NaN</td>\n",
       "      <td>0</td>\n",
       "      <td>http://localhost:8080/tienda1/publico/autentic...</td>\n",
       "    </tr>\n",
       "    <tr>\n",
       "      <th>4</th>\n",
       "      <td>Normal</td>\n",
       "      <td>POST</td>\n",
       "      <td>Content-Length: 63</td>\n",
       "      <td>modo=entrar&amp;login=choong&amp;pwd=d1se3ci%F3n&amp;remem...</td>\n",
       "      <td>0</td>\n",
       "      <td>http://localhost:8080/tienda1/publico/autentic...</td>\n",
       "    </tr>\n",
       "  </tbody>\n",
       "</table>\n",
       "</div>"
      ],
      "text/plain": [
       "    class Method              length  \\\n",
       "0  Normal    GET                 NaN   \n",
       "1  Normal    GET                 NaN   \n",
       "2  Normal   POST  Content-Length: 68   \n",
       "3  Normal    GET                 NaN   \n",
       "4  Normal   POST  Content-Length: 63   \n",
       "\n",
       "                                             content  classification  \\\n",
       "0                                                NaN               0   \n",
       "1                                                NaN               0   \n",
       "2  id=3&nombre=Vino+Rioja&precio=100&cantidad=55&...               0   \n",
       "3                                                NaN               0   \n",
       "4  modo=entrar&login=choong&pwd=d1se3ci%F3n&remem...               0   \n",
       "\n",
       "                                                 URL  \n",
       "0   http://localhost:8080/tienda1/index.jsp HTTP/1.1  \n",
       "1  http://localhost:8080/tienda1/publico/anadir.j...  \n",
       "2  http://localhost:8080/tienda1/publico/anadir.j...  \n",
       "3  http://localhost:8080/tienda1/publico/autentic...  \n",
       "4  http://localhost:8080/tienda1/publico/autentic...  "
      ]
     },
     "execution_count": 80,
     "metadata": {},
     "output_type": "execute_result"
    }
   ],
   "source": [
    "df5.head()"
   ]
  },
  {
   "cell_type": "code",
   "execution_count": 73,
   "id": "309a7c80",
   "metadata": {},
   "outputs": [],
   "source": [
    "def preprocess_data(df):\n",
    "    for i, row in df.iterrows():\n",
    "        if row['Method'] == 'POST':\n",
    "            df.loc[i-1, 'Method'] = 'POST'\n",
    "            df.loc[i-1, 'length'] = df.loc[i,'length']\n",
    "            df.drop(i, inplace=True)\n",
    "            i -= 1 # decrement index to account for dropped row"
   ]
  },
  {
   "cell_type": "code",
   "execution_count": 74,
   "id": "5b4871c9",
   "metadata": {},
   "outputs": [],
   "source": [
    "preprocess_data(df5)"
   ]
  },
  {
   "cell_type": "code",
   "execution_count": 107,
   "id": "885df93f",
   "metadata": {},
   "outputs": [
    {
     "data": {
      "text/html": [
       "<div>\n",
       "<style scoped>\n",
       "    .dataframe tbody tr th:only-of-type {\n",
       "        vertical-align: middle;\n",
       "    }\n",
       "\n",
       "    .dataframe tbody tr th {\n",
       "        vertical-align: top;\n",
       "    }\n",
       "\n",
       "    .dataframe thead th {\n",
       "        text-align: right;\n",
       "    }\n",
       "</style>\n",
       "<table border=\"1\" class=\"dataframe\">\n",
       "  <thead>\n",
       "    <tr style=\"text-align: right;\">\n",
       "      <th></th>\n",
       "      <th>class</th>\n",
       "      <th>Method</th>\n",
       "      <th>length</th>\n",
       "      <th>content</th>\n",
       "      <th>classification</th>\n",
       "      <th>URL</th>\n",
       "    </tr>\n",
       "  </thead>\n",
       "  <tbody>\n",
       "    <tr>\n",
       "      <th>0</th>\n",
       "      <td>Normal</td>\n",
       "      <td>GET</td>\n",
       "      <td>NaN</td>\n",
       "      <td>NaN</td>\n",
       "      <td>0</td>\n",
       "      <td>http://localhost:8080/tienda1/index.jsp HTTP/1.1</td>\n",
       "    </tr>\n",
       "    <tr>\n",
       "      <th>1</th>\n",
       "      <td>Normal</td>\n",
       "      <td>POST</td>\n",
       "      <td>Content-Length: 68</td>\n",
       "      <td>NaN</td>\n",
       "      <td>0</td>\n",
       "      <td>http://localhost:8080/tienda1/publico/anadir.j...</td>\n",
       "    </tr>\n",
       "    <tr>\n",
       "      <th>2</th>\n",
       "      <td>Normal</td>\n",
       "      <td>POST</td>\n",
       "      <td>Content-Length: 63</td>\n",
       "      <td>NaN</td>\n",
       "      <td>0</td>\n",
       "      <td>http://localhost:8080/tienda1/publico/autentic...</td>\n",
       "    </tr>\n",
       "    <tr>\n",
       "      <th>3</th>\n",
       "      <td>Normal</td>\n",
       "      <td>POST</td>\n",
       "      <td>Content-Length: 4</td>\n",
       "      <td>NaN</td>\n",
       "      <td>0</td>\n",
       "      <td>http://localhost:8080/tienda1/publico/caracter...</td>\n",
       "    </tr>\n",
       "    <tr>\n",
       "      <th>4</th>\n",
       "      <td>Normal</td>\n",
       "      <td>GET</td>\n",
       "      <td>NaN</td>\n",
       "      <td>NaN</td>\n",
       "      <td>0</td>\n",
       "      <td>http://localhost:8080/tienda1/publico/carrito....</td>\n",
       "    </tr>\n",
       "  </tbody>\n",
       "</table>\n",
       "</div>"
      ],
      "text/plain": [
       "    class Method              length content  classification  \\\n",
       "0  Normal    GET                 NaN     NaN               0   \n",
       "1  Normal   POST  Content-Length: 68     NaN               0   \n",
       "2  Normal   POST  Content-Length: 63     NaN               0   \n",
       "3  Normal   POST   Content-Length: 4     NaN               0   \n",
       "4  Normal    GET                 NaN     NaN               0   \n",
       "\n",
       "                                                 URL  \n",
       "0   http://localhost:8080/tienda1/index.jsp HTTP/1.1  \n",
       "1  http://localhost:8080/tienda1/publico/anadir.j...  \n",
       "2  http://localhost:8080/tienda1/publico/autentic...  \n",
       "3  http://localhost:8080/tienda1/publico/caracter...  \n",
       "4  http://localhost:8080/tienda1/publico/carrito....  "
      ]
     },
     "execution_count": 107,
     "metadata": {},
     "output_type": "execute_result"
    }
   ],
   "source": [
    "df5.head()"
   ]
  },
  {
   "cell_type": "code",
   "execution_count": 84,
   "id": "10b5b171",
   "metadata": {},
   "outputs": [],
   "source": [
    "df5.to_csv('modified_csic.csv', index=False)"
   ]
  },
  {
   "cell_type": "code",
   "execution_count": 85,
   "id": "52d4c484",
   "metadata": {},
   "outputs": [
    {
     "data": {
      "text/plain": [
       "(43485, 6)"
      ]
     },
     "execution_count": 85,
     "metadata": {},
     "output_type": "execute_result"
    }
   ],
   "source": [
    "df5.shape"
   ]
  },
  {
   "cell_type": "code",
   "execution_count": 86,
   "id": "1ac92972",
   "metadata": {},
   "outputs": [
    {
     "data": {
      "text/plain": [
       "class                 0\n",
       "Method                0\n",
       "length            25508\n",
       "content           43088\n",
       "classification        0\n",
       "URL                   0\n",
       "dtype: int64"
      ]
     },
     "execution_count": 86,
     "metadata": {},
     "output_type": "execute_result"
    }
   ],
   "source": [
    "df5.isnull().sum()"
   ]
  },
  {
   "cell_type": "code",
   "execution_count": 87,
   "id": "ea267eb7",
   "metadata": {},
   "outputs": [],
   "source": [
    "PUT_dfmod = df5[df5['Method'] == 'PUT']"
   ]
  },
  {
   "cell_type": "code",
   "execution_count": 88,
   "id": "2ad698d0",
   "metadata": {},
   "outputs": [
    {
     "name": "stdout",
     "output_type": "stream",
     "text": [
      "The dataframes are equal.\n"
     ]
    }
   ],
   "source": [
    "if PUT_df.equals(PUT_dfmod):\n",
    "    print(\"The dataframes are equal.\")\n",
    "else:\n",
    "    print(\"The dataframes are not equal.\") #yess as expected "
   ]
  },
  {
   "cell_type": "code",
   "execution_count": 89,
   "id": "74693719",
   "metadata": {},
   "outputs": [
    {
     "data": {
      "text/plain": [
       "dtype('O')"
      ]
     },
     "execution_count": 89,
     "metadata": {},
     "output_type": "execute_result"
    }
   ],
   "source": [
    "df5['URL'].dtype"
   ]
  },
  {
   "cell_type": "code",
   "execution_count": 90,
   "id": "c20fa831",
   "metadata": {},
   "outputs": [
    {
     "data": {
      "text/plain": [
       "class             object\n",
       "Method            object\n",
       "length            object\n",
       "content           object\n",
       "classification     int64\n",
       "URL               object\n",
       "dtype: object"
      ]
     },
     "execution_count": 90,
     "metadata": {},
     "output_type": "execute_result"
    }
   ],
   "source": [
    "df5.dtypes"
   ]
  },
  {
   "cell_type": "code",
   "execution_count": 32,
   "id": "19f679ce",
   "metadata": {},
   "outputs": [],
   "source": [
    "df5=pd.read_csv(\"modified_csic.csv\")\n",
    "df6 = df5.copy()"
   ]
  },
  {
   "cell_type": "code",
   "execution_count": 33,
   "id": "5dabe1d3",
   "metadata": {},
   "outputs": [
    {
     "data": {
      "text/plain": [
       "class                                   Anomalous\n",
       "Method                                        GET\n",
       "length                                        NaN\n",
       "content                                       NaN\n",
       "classification                                  1\n",
       "URL               http://localhost:8080/ HTTP/1.1\n",
       "Name: 28443, dtype: object"
      ]
     },
     "execution_count": 33,
     "metadata": {},
     "output_type": "execute_result"
    }
   ],
   "source": [
    "df5.loc[28443]"
   ]
  },
  {
   "cell_type": "code",
   "execution_count": 5,
   "id": "574495b2",
   "metadata": {},
   "outputs": [],
   "source": [
    "df6['URL'] = df6['URL'].str.split().str[0] #remove last part of url : http1.1"
   ]
  },
  {
   "cell_type": "code",
   "execution_count": 6,
   "id": "1ffa8a2f",
   "metadata": {},
   "outputs": [],
   "source": [
    "df6['URL'] = df6['URL'].str.replace('http://localhost:8080/', '').str.replace('tienda1/', '')\n",
    "#removing the host part with /tienda1 cause it's repeated across all rows"
   ]
  },
  {
   "cell_type": "code",
   "execution_count": 7,
   "id": "882070ad",
   "metadata": {},
   "outputs": [
    {
     "data": {
      "text/html": [
       "<div>\n",
       "<style scoped>\n",
       "    .dataframe tbody tr th:only-of-type {\n",
       "        vertical-align: middle;\n",
       "    }\n",
       "\n",
       "    .dataframe tbody tr th {\n",
       "        vertical-align: top;\n",
       "    }\n",
       "\n",
       "    .dataframe thead th {\n",
       "        text-align: right;\n",
       "    }\n",
       "</style>\n",
       "<table border=\"1\" class=\"dataframe\">\n",
       "  <thead>\n",
       "    <tr style=\"text-align: right;\">\n",
       "      <th></th>\n",
       "      <th>class</th>\n",
       "      <th>Method</th>\n",
       "      <th>length</th>\n",
       "      <th>content</th>\n",
       "      <th>classification</th>\n",
       "      <th>URL</th>\n",
       "    </tr>\n",
       "  </thead>\n",
       "  <tbody>\n",
       "    <tr>\n",
       "      <th>0</th>\n",
       "      <td>Normal</td>\n",
       "      <td>GET</td>\n",
       "      <td>NaN</td>\n",
       "      <td>NaN</td>\n",
       "      <td>0</td>\n",
       "      <td>index.jsp</td>\n",
       "    </tr>\n",
       "    <tr>\n",
       "      <th>1</th>\n",
       "      <td>Normal</td>\n",
       "      <td>POST</td>\n",
       "      <td>Content-Length: 68</td>\n",
       "      <td>NaN</td>\n",
       "      <td>0</td>\n",
       "      <td>publico/anadir.jsp?id=3&amp;nombre=Vino+Rioja&amp;prec...</td>\n",
       "    </tr>\n",
       "    <tr>\n",
       "      <th>2</th>\n",
       "      <td>Normal</td>\n",
       "      <td>POST</td>\n",
       "      <td>Content-Length: 63</td>\n",
       "      <td>NaN</td>\n",
       "      <td>0</td>\n",
       "      <td>publico/autenticar.jsp?modo=entrar&amp;login=choon...</td>\n",
       "    </tr>\n",
       "    <tr>\n",
       "      <th>3</th>\n",
       "      <td>Normal</td>\n",
       "      <td>POST</td>\n",
       "      <td>Content-Length: 4</td>\n",
       "      <td>NaN</td>\n",
       "      <td>0</td>\n",
       "      <td>publico/caracteristicas.jsp?id=2</td>\n",
       "    </tr>\n",
       "    <tr>\n",
       "      <th>4</th>\n",
       "      <td>Normal</td>\n",
       "      <td>GET</td>\n",
       "      <td>NaN</td>\n",
       "      <td>NaN</td>\n",
       "      <td>0</td>\n",
       "      <td>publico/carrito.jsp</td>\n",
       "    </tr>\n",
       "  </tbody>\n",
       "</table>\n",
       "</div>"
      ],
      "text/plain": [
       "    class Method              length content  classification  \\\n",
       "0  Normal    GET                 NaN     NaN               0   \n",
       "1  Normal   POST  Content-Length: 68     NaN               0   \n",
       "2  Normal   POST  Content-Length: 63     NaN               0   \n",
       "3  Normal   POST   Content-Length: 4     NaN               0   \n",
       "4  Normal    GET                 NaN     NaN               0   \n",
       "\n",
       "                                                 URL  \n",
       "0                                          index.jsp  \n",
       "1  publico/anadir.jsp?id=3&nombre=Vino+Rioja&prec...  \n",
       "2  publico/autenticar.jsp?modo=entrar&login=choon...  \n",
       "3                   publico/caracteristicas.jsp?id=2  \n",
       "4                                publico/carrito.jsp  "
      ]
     },
     "execution_count": 7,
     "metadata": {},
     "output_type": "execute_result"
    }
   ],
   "source": [
    "df6.head()"
   ]
  },
  {
   "cell_type": "code",
   "execution_count": null,
   "id": "5896aeb6",
   "metadata": {},
   "outputs": [],
   "source": [
    "contains_question_mark= PUT_dfmod['URL'].str.contains('\\?').any()\n",
    "print(contains_question_mark) #nice so we'll append the content of PUT as a query string to the url (merging) and then we can drop content"
   ]
  },
  {
   "cell_type": "code",
   "execution_count": 9,
   "id": "72b74416",
   "metadata": {},
   "outputs": [],
   "source": [
    "df7=df6.copy()"
   ]
  },
  {
   "cell_type": "code",
   "execution_count": 10,
   "id": "b03f5b4c",
   "metadata": {},
   "outputs": [],
   "source": [
    "# concatenate url with a question mark and the value of the content column, only for rows where method is PUT\n",
    "df7.loc[df7['Method'] == 'PUT', 'URL'] = df7.loc[df7['Method'] == 'PUT', 'URL'] + '?' + df7.loc[df7['Method'] == 'PUT', 'content']"
   ]
  },
  {
   "cell_type": "code",
   "execution_count": 11,
   "id": "8259c48b",
   "metadata": {},
   "outputs": [
    {
     "data": {
      "text/html": [
       "<div>\n",
       "<style scoped>\n",
       "    .dataframe tbody tr th:only-of-type {\n",
       "        vertical-align: middle;\n",
       "    }\n",
       "\n",
       "    .dataframe tbody tr th {\n",
       "        vertical-align: top;\n",
       "    }\n",
       "\n",
       "    .dataframe thead th {\n",
       "        text-align: right;\n",
       "    }\n",
       "</style>\n",
       "<table border=\"1\" class=\"dataframe\">\n",
       "  <thead>\n",
       "    <tr style=\"text-align: right;\">\n",
       "      <th></th>\n",
       "      <th>class</th>\n",
       "      <th>Method</th>\n",
       "      <th>length</th>\n",
       "      <th>content</th>\n",
       "      <th>classification</th>\n",
       "      <th>URL</th>\n",
       "    </tr>\n",
       "  </thead>\n",
       "  <tbody>\n",
       "    <tr>\n",
       "      <th>0</th>\n",
       "      <td>Normal</td>\n",
       "      <td>GET</td>\n",
       "      <td>NaN</td>\n",
       "      <td>NaN</td>\n",
       "      <td>0</td>\n",
       "      <td>index.jsp</td>\n",
       "    </tr>\n",
       "    <tr>\n",
       "      <th>1</th>\n",
       "      <td>Normal</td>\n",
       "      <td>POST</td>\n",
       "      <td>Content-Length: 68</td>\n",
       "      <td>NaN</td>\n",
       "      <td>0</td>\n",
       "      <td>publico/anadir.jsp?id=3&amp;nombre=Vino+Rioja&amp;prec...</td>\n",
       "    </tr>\n",
       "    <tr>\n",
       "      <th>2</th>\n",
       "      <td>Normal</td>\n",
       "      <td>POST</td>\n",
       "      <td>Content-Length: 63</td>\n",
       "      <td>NaN</td>\n",
       "      <td>0</td>\n",
       "      <td>publico/autenticar.jsp?modo=entrar&amp;login=choon...</td>\n",
       "    </tr>\n",
       "    <tr>\n",
       "      <th>3</th>\n",
       "      <td>Normal</td>\n",
       "      <td>POST</td>\n",
       "      <td>Content-Length: 4</td>\n",
       "      <td>NaN</td>\n",
       "      <td>0</td>\n",
       "      <td>publico/caracteristicas.jsp?id=2</td>\n",
       "    </tr>\n",
       "    <tr>\n",
       "      <th>4</th>\n",
       "      <td>Normal</td>\n",
       "      <td>GET</td>\n",
       "      <td>NaN</td>\n",
       "      <td>NaN</td>\n",
       "      <td>0</td>\n",
       "      <td>publico/carrito.jsp</td>\n",
       "    </tr>\n",
       "  </tbody>\n",
       "</table>\n",
       "</div>"
      ],
      "text/plain": [
       "    class Method              length content  classification  \\\n",
       "0  Normal    GET                 NaN     NaN               0   \n",
       "1  Normal   POST  Content-Length: 68     NaN               0   \n",
       "2  Normal   POST  Content-Length: 63     NaN               0   \n",
       "3  Normal   POST   Content-Length: 4     NaN               0   \n",
       "4  Normal    GET                 NaN     NaN               0   \n",
       "\n",
       "                                                 URL  \n",
       "0                                          index.jsp  \n",
       "1  publico/anadir.jsp?id=3&nombre=Vino+Rioja&prec...  \n",
       "2  publico/autenticar.jsp?modo=entrar&login=choon...  \n",
       "3                   publico/caracteristicas.jsp?id=2  \n",
       "4                                publico/carrito.jsp  "
      ]
     },
     "execution_count": 11,
     "metadata": {},
     "output_type": "execute_result"
    }
   ],
   "source": [
    "df7.head()"
   ]
  },
  {
   "cell_type": "code",
   "execution_count": 12,
   "id": "1b7357b6",
   "metadata": {},
   "outputs": [],
   "source": [
    "df7 = df7.drop('content', axis=1)"
   ]
  },
  {
   "cell_type": "code",
   "execution_count": 13,
   "id": "d8a62f1c",
   "metadata": {},
   "outputs": [],
   "source": [
    "df7 = df7.drop('class', axis=1)"
   ]
  },
  {
   "cell_type": "code",
   "execution_count": 14,
   "id": "8eb92e72",
   "metadata": {},
   "outputs": [],
   "source": [
    "df7.rename(columns={'length': 'payload_length'}, inplace=True)"
   ]
  },
  {
   "cell_type": "code",
   "execution_count": 15,
   "id": "651028e2",
   "metadata": {},
   "outputs": [],
   "source": [
    "df7['payload_length'].fillna(0, inplace=True)"
   ]
  },
  {
   "cell_type": "code",
   "execution_count": 16,
   "id": "be35257b",
   "metadata": {},
   "outputs": [],
   "source": [
    "non_zero_mask = df7['payload_length'] != 0\n",
    "df7.loc[non_zero_mask, 'payload_length'] = df7.loc[non_zero_mask, 'payload_length'].astype(str).str.split(':').str[1].astype(int)"
   ]
  },
  {
   "cell_type": "code",
   "execution_count": 17,
   "id": "f1e60077",
   "metadata": {},
   "outputs": [],
   "source": [
    "df7['payload_length'] = df7['payload_length'].astype(int)"
   ]
  },
  {
   "cell_type": "code",
   "execution_count": 18,
   "id": "4e0fee54",
   "metadata": {},
   "outputs": [
    {
     "data": {
      "text/plain": [
       "dtype('int32')"
      ]
     },
     "execution_count": 18,
     "metadata": {},
     "output_type": "execute_result"
    }
   ],
   "source": [
    "df7['payload_length'].dtype"
   ]
  },
  {
   "cell_type": "code",
   "execution_count": 19,
   "id": "21a6120f",
   "metadata": {},
   "outputs": [
    {
     "data": {
      "text/html": [
       "<div>\n",
       "<style scoped>\n",
       "    .dataframe tbody tr th:only-of-type {\n",
       "        vertical-align: middle;\n",
       "    }\n",
       "\n",
       "    .dataframe tbody tr th {\n",
       "        vertical-align: top;\n",
       "    }\n",
       "\n",
       "    .dataframe thead th {\n",
       "        text-align: right;\n",
       "    }\n",
       "</style>\n",
       "<table border=\"1\" class=\"dataframe\">\n",
       "  <thead>\n",
       "    <tr style=\"text-align: right;\">\n",
       "      <th></th>\n",
       "      <th>Method</th>\n",
       "      <th>payload_length</th>\n",
       "      <th>classification</th>\n",
       "      <th>URL</th>\n",
       "    </tr>\n",
       "  </thead>\n",
       "  <tbody>\n",
       "    <tr>\n",
       "      <th>0</th>\n",
       "      <td>GET</td>\n",
       "      <td>0</td>\n",
       "      <td>0</td>\n",
       "      <td>index.jsp</td>\n",
       "    </tr>\n",
       "    <tr>\n",
       "      <th>1</th>\n",
       "      <td>POST</td>\n",
       "      <td>68</td>\n",
       "      <td>0</td>\n",
       "      <td>publico/anadir.jsp?id=3&amp;nombre=Vino+Rioja&amp;prec...</td>\n",
       "    </tr>\n",
       "    <tr>\n",
       "      <th>2</th>\n",
       "      <td>POST</td>\n",
       "      <td>63</td>\n",
       "      <td>0</td>\n",
       "      <td>publico/autenticar.jsp?modo=entrar&amp;login=choon...</td>\n",
       "    </tr>\n",
       "    <tr>\n",
       "      <th>3</th>\n",
       "      <td>POST</td>\n",
       "      <td>4</td>\n",
       "      <td>0</td>\n",
       "      <td>publico/caracteristicas.jsp?id=2</td>\n",
       "    </tr>\n",
       "    <tr>\n",
       "      <th>4</th>\n",
       "      <td>GET</td>\n",
       "      <td>0</td>\n",
       "      <td>0</td>\n",
       "      <td>publico/carrito.jsp</td>\n",
       "    </tr>\n",
       "  </tbody>\n",
       "</table>\n",
       "</div>"
      ],
      "text/plain": [
       "  Method  payload_length  classification  \\\n",
       "0    GET               0               0   \n",
       "1   POST              68               0   \n",
       "2   POST              63               0   \n",
       "3   POST               4               0   \n",
       "4    GET               0               0   \n",
       "\n",
       "                                                 URL  \n",
       "0                                          index.jsp  \n",
       "1  publico/anadir.jsp?id=3&nombre=Vino+Rioja&prec...  \n",
       "2  publico/autenticar.jsp?modo=entrar&login=choon...  \n",
       "3                   publico/caracteristicas.jsp?id=2  \n",
       "4                                publico/carrito.jsp  "
      ]
     },
     "execution_count": 19,
     "metadata": {},
     "output_type": "execute_result"
    }
   ],
   "source": [
    "df7.head()"
   ]
  },
  {
   "cell_type": "code",
   "execution_count": 20,
   "id": "c5604720",
   "metadata": {},
   "outputs": [
    {
     "data": {
      "text/plain": [
       "Method            0\n",
       "payload_length    0\n",
       "classification    0\n",
       "URL               0\n",
       "dtype: int64"
      ]
     },
     "execution_count": 20,
     "metadata": {},
     "output_type": "execute_result"
    }
   ],
   "source": [
    "df7.isnull().sum()"
   ]
  },
  {
   "cell_type": "code",
   "execution_count": 164,
   "id": "f239dd42",
   "metadata": {},
   "outputs": [],
   "source": [
    "df7.to_csv('modified_csic_stage2.csv', index=False)"
   ]
  },
  {
   "cell_type": "code",
   "execution_count": 21,
   "id": "ad3fe8e8",
   "metadata": {},
   "outputs": [
    {
     "data": {
      "text/plain": [
       "Method            GET\n",
       "payload_length      0\n",
       "classification      1\n",
       "URL                  \n",
       "Name: 28443, dtype: object"
      ]
     },
     "execution_count": 21,
     "metadata": {},
     "output_type": "execute_result"
    }
   ],
   "source": [
    "df7.loc[28443]"
   ]
  }
 ],
 "metadata": {
  "kernelspec": {
   "display_name": "Python 3 (ipykernel)",
   "language": "python",
   "name": "python3"
  },
  "language_info": {
   "codemirror_mode": {
    "name": "ipython",
    "version": 3
   },
   "file_extension": ".py",
   "mimetype": "text/x-python",
   "name": "python",
   "nbconvert_exporter": "python",
   "pygments_lexer": "ipython3",
   "version": "3.10.9"
  }
 },
 "nbformat": 4,
 "nbformat_minor": 5
}
