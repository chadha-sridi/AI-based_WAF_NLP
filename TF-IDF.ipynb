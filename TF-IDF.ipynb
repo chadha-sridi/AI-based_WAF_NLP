{
 "cells": [
  {
   "cell_type": "code",
   "execution_count": 1,
   "id": "57a68d2f",
   "metadata": {},
   "outputs": [],
   "source": [
    "import pandas as pd\n",
    "import numpy as np"
   ]
  },
  {
   "cell_type": "code",
   "execution_count": 2,
   "id": "27207867",
   "metadata": {},
   "outputs": [
    {
     "data": {
      "text/plain": [
       "(43485, 4)"
      ]
     },
     "execution_count": 2,
     "metadata": {},
     "output_type": "execute_result"
    }
   ],
   "source": [
    "df = pd.read_csv(\"modified_csic_stage2.csv\")\n",
    "df.shape"
   ]
  },
  {
   "cell_type": "code",
   "execution_count": 3,
   "id": "018dccb9",
   "metadata": {},
   "outputs": [
    {
     "data": {
      "text/plain": [
       "Method             0\n",
       "payload_length     0\n",
       "classification     0\n",
       "URL               39\n",
       "dtype: int64"
      ]
     },
     "execution_count": 3,
     "metadata": {},
     "output_type": "execute_result"
    }
   ],
   "source": [
    "df.isnull().sum()"
   ]
  },
  {
   "cell_type": "code",
   "execution_count": 4,
   "id": "8d47ec37",
   "metadata": {},
   "outputs": [],
   "source": [
    "#indexes of rows with missing values in the 'url' column\n",
    "nan_indexes= df.loc[df['URL'].isna()].index\n",
    "# Replace the NaN values in the 'url' column with an empty string\n",
    "df.loc[nan_indexes, 'URL']=''"
   ]
  },
  {
   "cell_type": "code",
   "execution_count": 5,
   "id": "2662e6c9",
   "metadata": {},
   "outputs": [
    {
     "data": {
      "text/plain": [
       "Method            0\n",
       "payload_length    0\n",
       "classification    0\n",
       "URL               0\n",
       "dtype: int64"
      ]
     },
     "execution_count": 5,
     "metadata": {},
     "output_type": "execute_result"
    }
   ],
   "source": [
    "df.isnull().sum()"
   ]
  },
  {
   "cell_type": "code",
   "execution_count": 6,
   "id": "c27b8ba1",
   "metadata": {},
   "outputs": [],
   "source": [
    "#one-hot-encoding of Method column \n",
    "one_hot_encoded = pd.get_dummies(df['Method'], drop_first=True)\n",
    "df = pd.concat([df, one_hot_encoded], axis=1)\n",
    "df.drop('Method', axis=1, inplace=True)"
   ]
  },
  {
   "cell_type": "code",
   "execution_count": 7,
   "id": "e2c87070",
   "metadata": {},
   "outputs": [
    {
     "data": {
      "text/html": [
       "<div>\n",
       "<style scoped>\n",
       "    .dataframe tbody tr th:only-of-type {\n",
       "        vertical-align: middle;\n",
       "    }\n",
       "\n",
       "    .dataframe tbody tr th {\n",
       "        vertical-align: top;\n",
       "    }\n",
       "\n",
       "    .dataframe thead th {\n",
       "        text-align: right;\n",
       "    }\n",
       "</style>\n",
       "<table border=\"1\" class=\"dataframe\">\n",
       "  <thead>\n",
       "    <tr style=\"text-align: right;\">\n",
       "      <th></th>\n",
       "      <th>payload_length</th>\n",
       "      <th>classification</th>\n",
       "      <th>URL</th>\n",
       "      <th>POST</th>\n",
       "      <th>PUT</th>\n",
       "    </tr>\n",
       "  </thead>\n",
       "  <tbody>\n",
       "    <tr>\n",
       "      <th>0</th>\n",
       "      <td>0</td>\n",
       "      <td>0</td>\n",
       "      <td>index.jsp</td>\n",
       "      <td>0</td>\n",
       "      <td>0</td>\n",
       "    </tr>\n",
       "    <tr>\n",
       "      <th>1</th>\n",
       "      <td>68</td>\n",
       "      <td>0</td>\n",
       "      <td>publico/anadir.jsp?id=3&amp;nombre=Vino+Rioja&amp;prec...</td>\n",
       "      <td>1</td>\n",
       "      <td>0</td>\n",
       "    </tr>\n",
       "    <tr>\n",
       "      <th>2</th>\n",
       "      <td>63</td>\n",
       "      <td>0</td>\n",
       "      <td>publico/autenticar.jsp?modo=entrar&amp;login=choon...</td>\n",
       "      <td>1</td>\n",
       "      <td>0</td>\n",
       "    </tr>\n",
       "    <tr>\n",
       "      <th>3</th>\n",
       "      <td>4</td>\n",
       "      <td>0</td>\n",
       "      <td>publico/caracteristicas.jsp?id=2</td>\n",
       "      <td>1</td>\n",
       "      <td>0</td>\n",
       "    </tr>\n",
       "    <tr>\n",
       "      <th>4</th>\n",
       "      <td>0</td>\n",
       "      <td>0</td>\n",
       "      <td>publico/carrito.jsp</td>\n",
       "      <td>0</td>\n",
       "      <td>0</td>\n",
       "    </tr>\n",
       "  </tbody>\n",
       "</table>\n",
       "</div>"
      ],
      "text/plain": [
       "   payload_length  classification  \\\n",
       "0               0               0   \n",
       "1              68               0   \n",
       "2              63               0   \n",
       "3               4               0   \n",
       "4               0               0   \n",
       "\n",
       "                                                 URL  POST  PUT  \n",
       "0                                          index.jsp     0    0  \n",
       "1  publico/anadir.jsp?id=3&nombre=Vino+Rioja&prec...     1    0  \n",
       "2  publico/autenticar.jsp?modo=entrar&login=choon...     1    0  \n",
       "3                   publico/caracteristicas.jsp?id=2     1    0  \n",
       "4                                publico/carrito.jsp     0    0  "
      ]
     },
     "execution_count": 7,
     "metadata": {},
     "output_type": "execute_result"
    }
   ],
   "source": [
    "df.head()"
   ]
  },
  {
   "cell_type": "code",
   "execution_count": 26,
   "id": "0199998c",
   "metadata": {},
   "outputs": [
    {
     "data": {
      "text/plain": [
       "0    28000\n",
       "1    15485\n",
       "Name: classification, dtype: int64"
      ]
     },
     "execution_count": 26,
     "metadata": {},
     "output_type": "execute_result"
    }
   ],
   "source": [
    "df.classification.value_counts()"
   ]
  },
  {
   "cell_type": "code",
   "execution_count": 27,
   "id": "d878f9d0",
   "metadata": {},
   "outputs": [],
   "source": [
    "min_samples = 15485"
   ]
  },
  {
   "cell_type": "code",
   "execution_count": 29,
   "id": "f039dd40",
   "metadata": {},
   "outputs": [],
   "source": [
    "df_normal = df[df.classification==0].sample(min_samples, random_state=42)\n",
    "df_anomaly = df[df.classification==1].sample(min_samples, random_state=42)"
   ]
  },
  {
   "cell_type": "code",
   "execution_count": 30,
   "id": "0cf98697",
   "metadata": {},
   "outputs": [],
   "source": [
    "df_balanced = pd.concat([df_normal,df_anomaly],axis=0)"
   ]
  },
  {
   "cell_type": "code",
   "execution_count": 31,
   "id": "37b95846",
   "metadata": {},
   "outputs": [
    {
     "data": {
      "text/plain": [
       "0    15485\n",
       "1    15485\n",
       "Name: classification, dtype: int64"
      ]
     },
     "execution_count": 31,
     "metadata": {},
     "output_type": "execute_result"
    }
   ],
   "source": [
    "df_balanced.classification.value_counts()"
   ]
  },
  {
   "cell_type": "code",
   "execution_count": 35,
   "id": "d299d0a5",
   "metadata": {},
   "outputs": [],
   "source": [
    "from sklearn.model_selection import train_test_split\n",
    "\n",
    "X_train, X_test, y_train, y_test = train_test_split(\n",
    "    df_balanced.URL, \n",
    "    df_balanced.classification, \n",
    "    test_size=0.2, # 20% samples will go to test dataset\n",
    "    random_state=42,\n",
    "    stratify=df_balanced.classification\n",
    ")"
   ]
  },
  {
   "cell_type": "code",
   "execution_count": 36,
   "id": "20b3a700",
   "metadata": {},
   "outputs": [
    {
     "data": {
      "text/plain": [
       "0    12388\n",
       "1    12388\n",
       "Name: classification, dtype: int64"
      ]
     },
     "execution_count": 36,
     "metadata": {},
     "output_type": "execute_result"
    }
   ],
   "source": [
    "y_train.value_counts()"
   ]
  },
  {
   "cell_type": "code",
   "execution_count": 37,
   "id": "9f881886",
   "metadata": {},
   "outputs": [
    {
     "data": {
      "text/plain": [
       "0    3097\n",
       "1    3097\n",
       "Name: classification, dtype: int64"
      ]
     },
     "execution_count": 37,
     "metadata": {},
     "output_type": "execute_result"
    }
   ],
   "source": [
    "y_test.value_counts()"
   ]
  },
  {
   "cell_type": "code",
   "execution_count": 39,
   "id": "65555892",
   "metadata": {},
   "outputs": [
    {
     "name": "stdout",
     "output_type": "stream",
     "text": [
      "              precision    recall  f1-score   support\n",
      "\n",
      "           0       0.96      0.86      0.91      3097\n",
      "           1       0.87      0.97      0.92      3097\n",
      "\n",
      "    accuracy                           0.91      6194\n",
      "   macro avg       0.92      0.91      0.91      6194\n",
      "weighted avg       0.92      0.91      0.91      6194\n",
      "\n"
     ]
    }
   ],
   "source": [
    "from sklearn.feature_extraction.text import TfidfVectorizer\n",
    "from sklearn.neighbors import KNeighborsClassifier\n",
    "from sklearn.pipeline import Pipeline\n",
    "from sklearn.metrics import classification_report\n",
    "\n",
    "#1. create a pipeline object\n",
    "clf = Pipeline([\n",
    "     ('vectorizer_tfidf',TfidfVectorizer()),    \n",
    "     ('KNN', KNeighborsClassifier())         \n",
    "])\n",
    "\n",
    "#2. fit with X_train and y_train\n",
    "clf.fit(X_train, y_train)\n",
    "\n",
    "\n",
    "#3. get the predictions for X_test and store it in y_pred\n",
    "y_pred = clf.predict(X_test)\n",
    "\n",
    "\n",
    "#4. print the classfication report\n",
    "print(classification_report(y_test, y_pred))"
   ]
  },
  {
   "cell_type": "code",
   "execution_count": 40,
   "id": "54bfaccc",
   "metadata": {},
   "outputs": [
    {
     "name": "stdout",
     "output_type": "stream",
     "text": [
      "              precision    recall  f1-score   support\n",
      "\n",
      "           0       0.96      0.83      0.89      3097\n",
      "           1       0.85      0.96      0.90      3097\n",
      "\n",
      "    accuracy                           0.89      6194\n",
      "   macro avg       0.90      0.89      0.89      6194\n",
      "weighted avg       0.90      0.89      0.89      6194\n",
      "\n"
     ]
    }
   ],
   "source": [
    "from sklearn.naive_bayes import MultinomialNB\n",
    "\n",
    "\n",
    "#1. create a pipeline object\n",
    "clf = Pipeline([\n",
    "     ('vectorizer_tfidf',TfidfVectorizer()),    \n",
    "     ('Multi NB', MultinomialNB())         \n",
    "])\n",
    "\n",
    "#2. fit with X_train and y_train\n",
    "clf.fit(X_train, y_train)\n",
    "\n",
    "\n",
    "#3. get the predictions for X_test and store it in y_pred\n",
    "y_pred = clf.predict(X_test)\n",
    "\n",
    "\n",
    "#4. print the classfication report\n",
    "print(classification_report(y_test, y_pred))"
   ]
  },
  {
   "cell_type": "code",
   "execution_count": 42,
   "id": "4943b9bc",
   "metadata": {},
   "outputs": [
    {
     "name": "stdout",
     "output_type": "stream",
     "text": [
      "              precision    recall  f1-score   support\n",
      "\n",
      "           0       0.97      0.87      0.91      3097\n",
      "           1       0.88      0.97      0.92      3097\n",
      "\n",
      "    accuracy                           0.92      6194\n",
      "   macro avg       0.92      0.92      0.92      6194\n",
      "weighted avg       0.92      0.92      0.92      6194\n",
      "\n"
     ]
    }
   ],
   "source": [
    "from sklearn.ensemble import RandomForestClassifier # (-) takes too much time\n",
    "\n",
    "#1. create a pipeline object\n",
    "clf = Pipeline([\n",
    "     ('vectorizer_tfidf',TfidfVectorizer()),        \n",
    "     ('Random Forest', RandomForestClassifier())         \n",
    "])\n",
    "\n",
    "#2. fit with X_train and y_train\n",
    "clf.fit(X_train, y_train)\n",
    "\n",
    "\n",
    "#3. get the predictions for X_test and store it in y_pred\n",
    "y_pred = clf.predict(X_test)\n",
    "\n",
    "\n",
    "#4. print the classfication report\n",
    "print(classification_report(y_test, y_pred))"
   ]
  }
 ],
 "metadata": {
  "kernelspec": {
   "display_name": "Python 3 (ipykernel)",
   "language": "python",
   "name": "python3"
  },
  "language_info": {
   "codemirror_mode": {
    "name": "ipython",
    "version": 3
   },
   "file_extension": ".py",
   "mimetype": "text/x-python",
   "name": "python",
   "nbconvert_exporter": "python",
   "pygments_lexer": "ipython3",
   "version": "3.10.9"
  }
 },
 "nbformat": 4,
 "nbformat_minor": 5
}
